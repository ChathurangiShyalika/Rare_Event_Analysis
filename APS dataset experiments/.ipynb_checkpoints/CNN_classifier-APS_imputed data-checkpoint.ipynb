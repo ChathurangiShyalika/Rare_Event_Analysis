{
 "cells": [
  {
   "cell_type": "markdown",
   "metadata": {},
   "source": [
    "# CNN for Rare Event Binary Classification\n"
   ]
  },
  {
   "cell_type": "code",
   "execution_count": 3,
   "metadata": {},
   "outputs": [],
   "source": [
    "%matplotlib inline\n",
    "import matplotlib.pyplot as plt\n",
    "import seaborn as sns\n",
    "\n",
    "import pandas as pd\n",
    "import numpy as np\n",
    "from pylab import rcParams\n",
    "\n",
    "from sklearn.preprocessing import StandardScaler\n",
    "from sklearn.model_selection import train_test_split\n",
    "from sklearn.metrics import confusion_matrix, precision_recall_curve\n",
    "from sklearn.metrics import recall_score, classification_report, auc, roc_curve\n",
    "from sklearn.metrics import precision_recall_fscore_support, f1_score\n",
    "\n",
    "from sklearn.model_selection import train_test_split\n",
    "\n",
    "SEED = 123 \n",
    "DATA_SPLIT_PCT = 0.2\n",
    "\n",
    "rcParams['figure.figsize'] = 8, 6\n",
    "LABELS = [\"Normal\",\"Break\"]"
   ]
  },
  {
   "cell_type": "code",
   "execution_count": 4,
   "metadata": {},
   "outputs": [
    {
     "data": {
      "text/html": [
       "<div>\n",
       "<style scoped>\n",
       "    .dataframe tbody tr th:only-of-type {\n",
       "        vertical-align: middle;\n",
       "    }\n",
       "\n",
       "    .dataframe tbody tr th {\n",
       "        vertical-align: top;\n",
       "    }\n",
       "\n",
       "    .dataframe thead th {\n",
       "        text-align: right;\n",
       "    }\n",
       "</style>\n",
       "<table border=\"1\" class=\"dataframe\">\n",
       "  <thead>\n",
       "    <tr style=\"text-align: right;\">\n",
       "      <th></th>\n",
       "      <th>Unnamed: 0</th>\n",
       "      <th>bj_000</th>\n",
       "      <th>ci_000</th>\n",
       "      <th>ay_002</th>\n",
       "      <th>ag_001</th>\n",
       "      <th>ay_005</th>\n",
       "      <th>ag_002</th>\n",
       "      <th>am_0</th>\n",
       "      <th>ay_006</th>\n",
       "      <th>ee_003</th>\n",
       "      <th>...</th>\n",
       "      <th>cs_002</th>\n",
       "      <th>aq_000</th>\n",
       "      <th>bf_000</th>\n",
       "      <th>at_000</th>\n",
       "      <th>ee_005</th>\n",
       "      <th>bb_000</th>\n",
       "      <th>bl_000</th>\n",
       "      <th>ee_000</th>\n",
       "      <th>bo_000</th>\n",
       "      <th>bk_000</th>\n",
       "    </tr>\n",
       "  </thead>\n",
       "  <tbody>\n",
       "    <tr>\n",
       "      <th>0</th>\n",
       "      <td>0</td>\n",
       "      <td>799478.0</td>\n",
       "      <td>5245752.00</td>\n",
       "      <td>2198.356</td>\n",
       "      <td>828.488</td>\n",
       "      <td>469014.000000</td>\n",
       "      <td>8571.650</td>\n",
       "      <td>107278.622</td>\n",
       "      <td>4.239660e+06</td>\n",
       "      <td>493384.0</td>\n",
       "      <td>...</td>\n",
       "      <td>267998.0</td>\n",
       "      <td>1132040.0</td>\n",
       "      <td>50.000000</td>\n",
       "      <td>6709.982</td>\n",
       "      <td>469792.0</td>\n",
       "      <td>6700214.0</td>\n",
       "      <td>353400.000000</td>\n",
       "      <td>965866.0</td>\n",
       "      <td>283680.00</td>\n",
       "      <td>330760.00</td>\n",
       "    </tr>\n",
       "    <tr>\n",
       "      <th>1</th>\n",
       "      <td>1</td>\n",
       "      <td>392208.0</td>\n",
       "      <td>2291079.36</td>\n",
       "      <td>0.000</td>\n",
       "      <td>0.000</td>\n",
       "      <td>71510.000000</td>\n",
       "      <td>0.000</td>\n",
       "      <td>0.000</td>\n",
       "      <td>7.727200e+05</td>\n",
       "      <td>178064.0</td>\n",
       "      <td>...</td>\n",
       "      <td>164860.0</td>\n",
       "      <td>338544.0</td>\n",
       "      <td>350.000000</td>\n",
       "      <td>0.000</td>\n",
       "      <td>245416.0</td>\n",
       "      <td>3646660.0</td>\n",
       "      <td>359780.000000</td>\n",
       "      <td>664504.0</td>\n",
       "      <td>189120.00</td>\n",
       "      <td>341420.00</td>\n",
       "    </tr>\n",
       "    <tr>\n",
       "      <th>2</th>\n",
       "      <td>2</td>\n",
       "      <td>139730.0</td>\n",
       "      <td>2322692.16</td>\n",
       "      <td>0.000</td>\n",
       "      <td>0.000</td>\n",
       "      <td>202696.500000</td>\n",
       "      <td>0.000</td>\n",
       "      <td>486.750</td>\n",
       "      <td>8.704560e+05</td>\n",
       "      <td>159812.0</td>\n",
       "      <td>...</td>\n",
       "      <td>56362.0</td>\n",
       "      <td>153698.0</td>\n",
       "      <td>4.000000</td>\n",
       "      <td>0.000</td>\n",
       "      <td>409564.0</td>\n",
       "      <td>2673338.0</td>\n",
       "      <td>130640.000000</td>\n",
       "      <td>262032.0</td>\n",
       "      <td>106380.00</td>\n",
       "      <td>137160.00</td>\n",
       "    </tr>\n",
       "    <tr>\n",
       "      <th>3</th>\n",
       "      <td>3</td>\n",
       "      <td>3090.0</td>\n",
       "      <td>2135.04</td>\n",
       "      <td>0.000</td>\n",
       "      <td>0.000</td>\n",
       "      <td>181363.333333</td>\n",
       "      <td>0.000</td>\n",
       "      <td>3894.000</td>\n",
       "      <td>1.781648e+06</td>\n",
       "      <td>46.0</td>\n",
       "      <td>...</td>\n",
       "      <td>24.0</td>\n",
       "      <td>1014.0</td>\n",
       "      <td>107.933333</td>\n",
       "      <td>0.000</td>\n",
       "      <td>44.0</td>\n",
       "      <td>21614.0</td>\n",
       "      <td>253274.666667</td>\n",
       "      <td>5670.0</td>\n",
       "      <td>75648.00</td>\n",
       "      <td>246502.00</td>\n",
       "    </tr>\n",
       "    <tr>\n",
       "      <th>4</th>\n",
       "      <td>4</td>\n",
       "      <td>399410.0</td>\n",
       "      <td>3565684.80</td>\n",
       "      <td>0.000</td>\n",
       "      <td>0.000</td>\n",
       "      <td>372236.000000</td>\n",
       "      <td>0.000</td>\n",
       "      <td>811.250</td>\n",
       "      <td>2.128914e+06</td>\n",
       "      <td>229790.0</td>\n",
       "      <td>...</td>\n",
       "      <td>80950.0</td>\n",
       "      <td>551022.0</td>\n",
       "      <td>2.000000</td>\n",
       "      <td>0.000</td>\n",
       "      <td>347188.0</td>\n",
       "      <td>4289260.0</td>\n",
       "      <td>282560.000000</td>\n",
       "      <td>404740.0</td>\n",
       "      <td>59100.00</td>\n",
       "      <td>306780.00</td>\n",
       "    </tr>\n",
       "    <tr>\n",
       "      <th>...</th>\n",
       "      <td>...</td>\n",
       "      <td>...</td>\n",
       "      <td>...</td>\n",
       "      <td>...</td>\n",
       "      <td>...</td>\n",
       "      <td>...</td>\n",
       "      <td>...</td>\n",
       "      <td>...</td>\n",
       "      <td>...</td>\n",
       "      <td>...</td>\n",
       "      <td>...</td>\n",
       "      <td>...</td>\n",
       "      <td>...</td>\n",
       "      <td>...</td>\n",
       "      <td>...</td>\n",
       "      <td>...</td>\n",
       "      <td>...</td>\n",
       "      <td>...</td>\n",
       "      <td>...</td>\n",
       "      <td>...</td>\n",
       "      <td>...</td>\n",
       "    </tr>\n",
       "    <tr>\n",
       "      <th>59995</th>\n",
       "      <td>59995</td>\n",
       "      <td>678792.0</td>\n",
       "      <td>8289544.32</td>\n",
       "      <td>5757.992</td>\n",
       "      <td>1061.362</td>\n",
       "      <td>45114.000000</td>\n",
       "      <td>6691.674</td>\n",
       "      <td>2114.000</td>\n",
       "      <td>2.533260e+06</td>\n",
       "      <td>566884.0</td>\n",
       "      <td>...</td>\n",
       "      <td>138036.0</td>\n",
       "      <td>776370.0</td>\n",
       "      <td>14.000000</td>\n",
       "      <td>1574.588</td>\n",
       "      <td>1218244.0</td>\n",
       "      <td>10845228.0</td>\n",
       "      <td>221620.000000</td>\n",
       "      <td>1608808.0</td>\n",
       "      <td>152420.00</td>\n",
       "      <td>263320.00</td>\n",
       "    </tr>\n",
       "    <tr>\n",
       "      <th>59996</th>\n",
       "      <td>59996</td>\n",
       "      <td>9572.0</td>\n",
       "      <td>123344.64</td>\n",
       "      <td>5757.992</td>\n",
       "      <td>1061.362</td>\n",
       "      <td>4610.000000</td>\n",
       "      <td>6691.674</td>\n",
       "      <td>76769.085</td>\n",
       "      <td>9.912000e+04</td>\n",
       "      <td>6760.0</td>\n",
       "      <td>...</td>\n",
       "      <td>3606.0</td>\n",
       "      <td>11622.0</td>\n",
       "      <td>66.645000</td>\n",
       "      <td>1574.588</td>\n",
       "      <td>68424.0</td>\n",
       "      <td>147638.0</td>\n",
       "      <td>163342.460000</td>\n",
       "      <td>13934.0</td>\n",
       "      <td>99662.58</td>\n",
       "      <td>160036.47</td>\n",
       "    </tr>\n",
       "    <tr>\n",
       "      <th>59997</th>\n",
       "      <td>59997</td>\n",
       "      <td>6224.0</td>\n",
       "      <td>7518.72</td>\n",
       "      <td>5757.992</td>\n",
       "      <td>1061.362</td>\n",
       "      <td>137882.849000</td>\n",
       "      <td>6691.674</td>\n",
       "      <td>76768.344</td>\n",
       "      <td>1.062160e+06</td>\n",
       "      <td>386.0</td>\n",
       "      <td>...</td>\n",
       "      <td>72.0</td>\n",
       "      <td>874.0</td>\n",
       "      <td>66.671000</td>\n",
       "      <td>1603.238</td>\n",
       "      <td>144.0</td>\n",
       "      <td>43738.0</td>\n",
       "      <td>163508.610000</td>\n",
       "      <td>15876.0</td>\n",
       "      <td>99843.76</td>\n",
       "      <td>160040.61</td>\n",
       "    </tr>\n",
       "    <tr>\n",
       "      <th>59998</th>\n",
       "      <td>59998</td>\n",
       "      <td>1032454.0</td>\n",
       "      <td>4776505.92</td>\n",
       "      <td>5757.992</td>\n",
       "      <td>1061.362</td>\n",
       "      <td>119742.000000</td>\n",
       "      <td>6691.558</td>\n",
       "      <td>76758.797</td>\n",
       "      <td>4.445146e+06</td>\n",
       "      <td>222654.0</td>\n",
       "      <td>...</td>\n",
       "      <td>333922.0</td>\n",
       "      <td>1214970.0</td>\n",
       "      <td>70.000000</td>\n",
       "      <td>57300.000</td>\n",
       "      <td>225724.0</td>\n",
       "      <td>6159728.0</td>\n",
       "      <td>332300.000000</td>\n",
       "      <td>1180714.0</td>\n",
       "      <td>362360.00</td>\n",
       "      <td>302700.00</td>\n",
       "    </tr>\n",
       "    <tr>\n",
       "      <th>59999</th>\n",
       "      <td>59999</td>\n",
       "      <td>260378.0</td>\n",
       "      <td>2480113.92</td>\n",
       "      <td>0.000</td>\n",
       "      <td>0.000</td>\n",
       "      <td>105702.000000</td>\n",
       "      <td>0.000</td>\n",
       "      <td>0.000</td>\n",
       "      <td>1.433988e+06</td>\n",
       "      <td>183200.0</td>\n",
       "      <td>...</td>\n",
       "      <td>81228.0</td>\n",
       "      <td>334864.0</td>\n",
       "      <td>2.000000</td>\n",
       "      <td>0.000</td>\n",
       "      <td>254068.0</td>\n",
       "      <td>3076406.0</td>\n",
       "      <td>268280.000000</td>\n",
       "      <td>409798.0</td>\n",
       "      <td>0.00</td>\n",
       "      <td>191320.00</td>\n",
       "    </tr>\n",
       "  </tbody>\n",
       "</table>\n",
       "<p>60000 rows × 59 columns</p>\n",
       "</div>"
      ],
      "text/plain": [
       "       Unnamed: 0     bj_000      ci_000    ay_002    ag_001         ay_005  \\\n",
       "0               0   799478.0  5245752.00  2198.356   828.488  469014.000000   \n",
       "1               1   392208.0  2291079.36     0.000     0.000   71510.000000   \n",
       "2               2   139730.0  2322692.16     0.000     0.000  202696.500000   \n",
       "3               3     3090.0     2135.04     0.000     0.000  181363.333333   \n",
       "4               4   399410.0  3565684.80     0.000     0.000  372236.000000   \n",
       "...           ...        ...         ...       ...       ...            ...   \n",
       "59995       59995   678792.0  8289544.32  5757.992  1061.362   45114.000000   \n",
       "59996       59996     9572.0   123344.64  5757.992  1061.362    4610.000000   \n",
       "59997       59997     6224.0     7518.72  5757.992  1061.362  137882.849000   \n",
       "59998       59998  1032454.0  4776505.92  5757.992  1061.362  119742.000000   \n",
       "59999       59999   260378.0  2480113.92     0.000     0.000  105702.000000   \n",
       "\n",
       "         ag_002        am_0        ay_006    ee_003  ...    cs_002     aq_000  \\\n",
       "0      8571.650  107278.622  4.239660e+06  493384.0  ...  267998.0  1132040.0   \n",
       "1         0.000       0.000  7.727200e+05  178064.0  ...  164860.0   338544.0   \n",
       "2         0.000     486.750  8.704560e+05  159812.0  ...   56362.0   153698.0   \n",
       "3         0.000    3894.000  1.781648e+06      46.0  ...      24.0     1014.0   \n",
       "4         0.000     811.250  2.128914e+06  229790.0  ...   80950.0   551022.0   \n",
       "...         ...         ...           ...       ...  ...       ...        ...   \n",
       "59995  6691.674    2114.000  2.533260e+06  566884.0  ...  138036.0   776370.0   \n",
       "59996  6691.674   76769.085  9.912000e+04    6760.0  ...    3606.0    11622.0   \n",
       "59997  6691.674   76768.344  1.062160e+06     386.0  ...      72.0      874.0   \n",
       "59998  6691.558   76758.797  4.445146e+06  222654.0  ...  333922.0  1214970.0   \n",
       "59999     0.000       0.000  1.433988e+06  183200.0  ...   81228.0   334864.0   \n",
       "\n",
       "           bf_000     at_000     ee_005      bb_000         bl_000     ee_000  \\\n",
       "0       50.000000   6709.982   469792.0   6700214.0  353400.000000   965866.0   \n",
       "1      350.000000      0.000   245416.0   3646660.0  359780.000000   664504.0   \n",
       "2        4.000000      0.000   409564.0   2673338.0  130640.000000   262032.0   \n",
       "3      107.933333      0.000       44.0     21614.0  253274.666667     5670.0   \n",
       "4        2.000000      0.000   347188.0   4289260.0  282560.000000   404740.0   \n",
       "...           ...        ...        ...         ...            ...        ...   \n",
       "59995   14.000000   1574.588  1218244.0  10845228.0  221620.000000  1608808.0   \n",
       "59996   66.645000   1574.588    68424.0    147638.0  163342.460000    13934.0   \n",
       "59997   66.671000   1603.238      144.0     43738.0  163508.610000    15876.0   \n",
       "59998   70.000000  57300.000   225724.0   6159728.0  332300.000000  1180714.0   \n",
       "59999    2.000000      0.000   254068.0   3076406.0  268280.000000   409798.0   \n",
       "\n",
       "          bo_000     bk_000  \n",
       "0      283680.00  330760.00  \n",
       "1      189120.00  341420.00  \n",
       "2      106380.00  137160.00  \n",
       "3       75648.00  246502.00  \n",
       "4       59100.00  306780.00  \n",
       "...          ...        ...  \n",
       "59995  152420.00  263320.00  \n",
       "59996   99662.58  160036.47  \n",
       "59997   99843.76  160040.61  \n",
       "59998  362360.00  302700.00  \n",
       "59999       0.00  191320.00  \n",
       "\n",
       "[60000 rows x 59 columns]"
      ]
     },
     "execution_count": 4,
     "metadata": {},
     "output_type": "execute_result"
    }
   ],
   "source": [
    "df=pd.read_csv(\"APS_selected_without_null.csv\")\n",
    "df"
   ]
  },
  {
   "cell_type": "code",
   "execution_count": 5,
   "metadata": {},
   "outputs": [],
   "source": [
    "df = df.drop(['Unnamed: 0'], axis=1)"
   ]
  },
  {
   "cell_type": "code",
   "execution_count": 7,
   "metadata": {},
   "outputs": [
    {
     "data": {
      "text/plain": [
       "0        0\n",
       "1        0\n",
       "2        0\n",
       "3        0\n",
       "4        0\n",
       "        ..\n",
       "59995    0\n",
       "59996    0\n",
       "59997    0\n",
       "59998    0\n",
       "59999    0\n",
       "Name: class, Length: 60000, dtype: int64"
      ]
     },
     "execution_count": 7,
     "metadata": {},
     "output_type": "execute_result"
    }
   ],
   "source": [
    "df1 = pd.read_csv('aps_failure_training_set.csv')\n",
    "df1\n",
    "df1['class'] = df1['class'].replace({'pos': 1, 'neg': 0})\n",
    "df1\n",
    "y = df1['class']\n",
    "\n",
    "y=y.fillna(0)\n",
    "y"
   ]
  },
  {
   "cell_type": "markdown",
   "metadata": {},
   "source": [
    "# Prepare data for CNN models"
   ]
  },
  {
   "cell_type": "code",
   "execution_count": 8,
   "metadata": {},
   "outputs": [],
   "source": [
    "input_X = df.values  # converts the df to a numpy array\n",
    "input_y = df1['class'].values\n",
    "\n",
    "n_features = input_X.shape[1]  # number of features"
   ]
  },
  {
   "cell_type": "code",
   "execution_count": 9,
   "metadata": {},
   "outputs": [
    {
     "data": {
      "text/plain": [
       "58"
      ]
     },
     "execution_count": 9,
     "metadata": {},
     "output_type": "execute_result"
    }
   ],
   "source": [
    "n_features"
   ]
  },
  {
   "cell_type": "code",
   "execution_count": 10,
   "metadata": {},
   "outputs": [
    {
     "data": {
      "text/plain": [
       "array([0, 0, 0, ..., 0, 0, 0])"
      ]
     },
     "execution_count": 10,
     "metadata": {},
     "output_type": "execute_result"
    }
   ],
   "source": [
    "input_y"
   ]
  },
  {
   "cell_type": "code",
   "execution_count": 11,
   "metadata": {},
   "outputs": [
    {
     "data": {
      "text/plain": [
       "array([[7.99478000e+05, 5.24575200e+06, 2.19835600e+03, ...,\n",
       "        9.65866000e+05, 2.83680000e+05, 3.30760000e+05],\n",
       "       [3.92208000e+05, 2.29107936e+06, 0.00000000e+00, ...,\n",
       "        6.64504000e+05, 1.89120000e+05, 3.41420000e+05],\n",
       "       [1.39730000e+05, 2.32269216e+06, 0.00000000e+00, ...,\n",
       "        2.62032000e+05, 1.06380000e+05, 1.37160000e+05],\n",
       "       ...,\n",
       "       [6.22400000e+03, 7.51872000e+03, 5.75799200e+03, ...,\n",
       "        1.58760000e+04, 9.98437600e+04, 1.60040610e+05],\n",
       "       [1.03245400e+06, 4.77650592e+06, 5.75799200e+03, ...,\n",
       "        1.18071400e+06, 3.62360000e+05, 3.02700000e+05],\n",
       "       [2.60378000e+05, 2.48011392e+06, 0.00000000e+00, ...,\n",
       "        4.09798000e+05, 0.00000000e+00, 1.91320000e+05]])"
      ]
     },
     "execution_count": 11,
     "metadata": {},
     "output_type": "execute_result"
    }
   ],
   "source": [
    "input_X"
   ]
  },
  {
   "cell_type": "code",
   "execution_count": 12,
   "metadata": {},
   "outputs": [
    {
     "data": {
      "text/plain": [
       "58"
      ]
     },
     "execution_count": 12,
     "metadata": {},
     "output_type": "execute_result"
    }
   ],
   "source": [
    "n_features"
   ]
  },
  {
   "cell_type": "markdown",
   "metadata": {},
   "source": [
    "### Divide the data into train, valid, and test"
   ]
  },
  {
   "cell_type": "code",
   "execution_count": 14,
   "metadata": {},
   "outputs": [],
   "source": [
    "X_train, X_test, y_train, y_test = train_test_split(np.array(input_X), np.array(input_y), test_size=DATA_SPLIT_PCT, random_state=SEED)\n",
    "X_train, X_valid, y_train, y_valid = train_test_split(X_train, y_train, test_size=DATA_SPLIT_PCT, random_state=SEED)\n"
   ]
  },
  {
   "cell_type": "code",
   "execution_count": 15,
   "metadata": {},
   "outputs": [
    {
     "data": {
      "text/plain": [
       "(38400, 58)"
      ]
     },
     "execution_count": 15,
     "metadata": {},
     "output_type": "execute_result"
    }
   ],
   "source": [
    "X_train.shape"
   ]
  },
  {
   "cell_type": "code",
   "execution_count": 16,
   "metadata": {},
   "outputs": [
    {
     "data": {
      "text/plain": [
       "array([[1.09940000e+04, 3.05625600e+04, 2.08080000e+03, ...,\n",
       "        5.23600000e+04, 1.21010100e+05, 1.74791690e+05],\n",
       "       [2.07842000e+05, 2.61103488e+06, 7.88211600e+03, ...,\n",
       "        2.88932000e+05, 9.25348800e+04, 1.19120000e+05],\n",
       "       [2.73080000e+04, 4.30803840e+05, 2.80211200e+03, ...,\n",
       "        5.48200000e+04, 1.20251340e+05, 1.69119790e+05],\n",
       "       ...,\n",
       "       [5.53246000e+05, 2.39988768e+06, 2.38472000e+03, ...,\n",
       "        7.52664000e+05, 1.16885920e+05, 2.67480000e+05],\n",
       "       [6.86122000e+05, 2.81835840e+06, 2.54958000e+02, ...,\n",
       "        5.39352000e+05, 1.13897500e+05, 4.11400000e+05],\n",
       "       [6.59054000e+05, 9.60110784e+06, 8.75752000e+02, ...,\n",
       "        1.55190400e+06, 1.38300000e+05, 1.15780000e+05]])"
      ]
     },
     "execution_count": 16,
     "metadata": {},
     "output_type": "execute_result"
    }
   ],
   "source": [
    "X_train"
   ]
  },
  {
   "cell_type": "code",
   "execution_count": 17,
   "metadata": {},
   "outputs": [
    {
     "data": {
      "text/plain": [
       "array([0, 0, 0, ..., 0, 0, 0])"
      ]
     },
     "execution_count": 17,
     "metadata": {},
     "output_type": "execute_result"
    }
   ],
   "source": [
    "np.array(input_y)"
   ]
  },
  {
   "cell_type": "code",
   "execution_count": 18,
   "metadata": {},
   "outputs": [],
   "source": [
    "X_train_y0 = X_train[y_train==0]\n",
    "X_train_y1 = X_train[y_train==1]\n",
    "\n",
    "X_valid_y0 = X_valid[y_valid==0]\n",
    "X_valid_y1 = X_valid[y_valid==1]"
   ]
  },
  {
   "cell_type": "code",
   "execution_count": 19,
   "metadata": {},
   "outputs": [
    {
     "data": {
      "text/plain": [
       "(37770, 58)"
      ]
     },
     "execution_count": 19,
     "metadata": {},
     "output_type": "execute_result"
    }
   ],
   "source": [
    "X_train_y0.shape"
   ]
  },
  {
   "cell_type": "code",
   "execution_count": 20,
   "metadata": {},
   "outputs": [
    {
     "data": {
      "text/plain": [
       "(9427, 58)"
      ]
     },
     "execution_count": 20,
     "metadata": {},
     "output_type": "execute_result"
    }
   ],
   "source": [
    "X_valid_y0.shape"
   ]
  },
  {
   "cell_type": "code",
   "execution_count": 21,
   "metadata": {},
   "outputs": [
    {
     "data": {
      "text/plain": [
       "38400"
      ]
     },
     "execution_count": 21,
     "metadata": {},
     "output_type": "execute_result"
    }
   ],
   "source": [
    "len(X_train)"
   ]
  },
  {
   "cell_type": "code",
   "execution_count": 22,
   "metadata": {},
   "outputs": [],
   "source": [
    "num_classes=2"
   ]
  },
  {
   "cell_type": "code",
   "execution_count": 23,
   "metadata": {},
   "outputs": [
    {
     "name": "stdout",
     "output_type": "stream",
     "text": [
      "X_train shape: (38400, 58)\n",
      "X_test shape: (12000, 58)\n"
     ]
    }
   ],
   "source": [
    "# Verify the reshaped data shape\n",
    "print(\"X_train shape:\", X_train.shape)\n",
    "print(\"X_test shape:\", X_test.shape)\n"
   ]
  },
  {
   "cell_type": "code",
   "execution_count": 24,
   "metadata": {},
   "outputs": [],
   "source": [
    "# Reshape the data to match the expected input shape of the model\n",
    "X_train_reshaped = np.reshape(X_train, (X_train.shape[0], X_train.shape[1], 1))\n",
    "X_test_reshaped = np.reshape(X_test, (X_test.shape[0], X_test.shape[1], 1))\n"
   ]
  },
  {
   "cell_type": "code",
   "execution_count": 25,
   "metadata": {},
   "outputs": [
    {
     "name": "stdout",
     "output_type": "stream",
     "text": [
      "X_train shape: (38400, 58, 1)\n",
      "X_test shape: (12000, 58, 1)\n"
     ]
    }
   ],
   "source": [
    "# Verify the reshaped data shape\n",
    "print(\"X_train shape:\", X_train_reshaped.shape)\n",
    "print(\"X_test shape:\", X_test_reshaped.shape)\n"
   ]
  },
  {
   "cell_type": "raw",
   "metadata": {},
   "source": [
    "# CNN training"
   ]
  },
  {
   "cell_type": "code",
   "execution_count": 36,
   "metadata": {},
   "outputs": [],
   "source": [
    "import numpy as np\n",
    "import tensorflow as tf\n",
    "from tensorflow.keras.models import Sequential\n",
    "from tensorflow.keras.layers import Conv1D, MaxPooling1D, Flatten, Dense\n",
    "\n",
    "\n",
    "# Define the model\n",
    "model = Sequential()\n",
    "model.add(Conv1D(32, kernel_size=3, activation='relu', input_shape=(X_train.shape[1], 1)))\n",
    "model.add(MaxPooling1D(pool_size=2))\n",
    "model.add(Conv1D(64, kernel_size=3, activation='relu'))\n",
    "model.add(MaxPooling1D(pool_size=2))\n",
    "model.add(Conv1D(64, kernel_size=3, activation='relu'))\n",
    "model.add(MaxPooling1D(pool_size=2))\n",
    "model.add(Conv1D(64, kernel_size=3, activation='relu'))\n",
    "model.add(MaxPooling1D(pool_size=2))\n",
    "model.add(Flatten())\n",
    "model.add(Dense(64, activation='relu'))\n",
    "model.add(Dense(1, activation='sigmoid'))\n",
    "\n"
   ]
  },
  {
   "cell_type": "code",
   "execution_count": 37,
   "metadata": {},
   "outputs": [],
   "source": [
    "# Compile the model\n",
    "model.compile(loss='binary_crossentropy', optimizer='adam', metrics=['accuracy'])\n"
   ]
  },
  {
   "cell_type": "code",
   "execution_count": 38,
   "metadata": {},
   "outputs": [
    {
     "name": "stdout",
     "output_type": "stream",
     "text": [
      "Epoch 1/100\n",
      "23675/23675 [==============================] - 121s 5ms/step - loss: 0.0369 - accuracy: 0.9942 - val_loss: 0.0352 - val_accuracy: 0.9943\n",
      "Epoch 2/100\n",
      "23675/23675 [==============================] - 119s 5ms/step - loss: 0.0362 - accuracy: 0.9942 - val_loss: 0.0355 - val_accuracy: 0.9943\n",
      "Epoch 3/100\n",
      "23675/23675 [==============================] - 117s 5ms/step - loss: 0.0360 - accuracy: 0.9942 - val_loss: 0.0350 - val_accuracy: 0.9943\n",
      "Epoch 4/100\n",
      "23675/23675 [==============================] - 119s 5ms/step - loss: 0.0359 - accuracy: 0.9942 - val_loss: 0.0350 - val_accuracy: 0.9943\n",
      "Epoch 5/100\n",
      "23675/23675 [==============================] - 129s 5ms/step - loss: 0.0360 - accuracy: 0.9942 - val_loss: 0.0350 - val_accuracy: 0.9943\n",
      "Epoch 6/100\n",
      "23675/23675 [==============================] - 129s 5ms/step - loss: 0.0360 - accuracy: 0.9942 - val_loss: 0.0349 - val_accuracy: 0.9943\n",
      "Epoch 7/100\n",
      "23675/23675 [==============================] - 129s 5ms/step - loss: 0.0360 - accuracy: 0.9942 - val_loss: 0.0350 - val_accuracy: 0.9943\n",
      "Epoch 8/100\n",
      "23675/23675 [==============================] - 115s 5ms/step - loss: 0.0361 - accuracy: 0.9942 - val_loss: 0.0349 - val_accuracy: 0.9943\n",
      "Epoch 9/100\n",
      "23675/23675 [==============================] - 123s 5ms/step - loss: 0.0360 - accuracy: 0.9942 - val_loss: 0.0350 - val_accuracy: 0.9943\n",
      "Epoch 10/100\n",
      "23675/23675 [==============================] - 117s 5ms/step - loss: 0.0361 - accuracy: 0.9942 - val_loss: 0.0350 - val_accuracy: 0.9943\n",
      "Epoch 11/100\n",
      "23675/23675 [==============================] - 111s 5ms/step - loss: 0.0359 - accuracy: 0.9942 - val_loss: 0.0370 - val_accuracy: 0.9943\n",
      "Epoch 12/100\n",
      "23675/23675 [==============================] - 118s 5ms/step - loss: 0.0361 - accuracy: 0.9942 - val_loss: 0.0351 - val_accuracy: 0.9943\n",
      "Epoch 13/100\n",
      "23675/23675 [==============================] - 127s 5ms/step - loss: 0.0359 - accuracy: 0.9942 - val_loss: 0.0351 - val_accuracy: 0.9943\n",
      "Epoch 14/100\n",
      "23675/23675 [==============================] - 129s 5ms/step - loss: 0.0359 - accuracy: 0.9942 - val_loss: 0.0349 - val_accuracy: 0.9943\n",
      "Epoch 15/100\n",
      "23675/23675 [==============================] - 137s 6ms/step - loss: 0.0361 - accuracy: 0.9942 - val_loss: 0.0349 - val_accuracy: 0.9943\n",
      "Epoch 16/100\n",
      "23675/23675 [==============================] - 118s 5ms/step - loss: 0.0358 - accuracy: 0.9942 - val_loss: 0.0349 - val_accuracy: 0.9943\n",
      "Epoch 17/100\n",
      "23675/23675 [==============================] - 123s 5ms/step - loss: 0.0358 - accuracy: 0.9942 - val_loss: 0.0349 - val_accuracy: 0.9943\n",
      "Epoch 18/100\n",
      "23675/23675 [==============================] - 116s 5ms/step - loss: 0.0358 - accuracy: 0.9942 - val_loss: 0.0351 - val_accuracy: 0.9943\n",
      "Epoch 19/100\n",
      "23675/23675 [==============================] - 115s 5ms/step - loss: 0.0358 - accuracy: 0.9942 - val_loss: 0.0349 - val_accuracy: 0.9943\n",
      "Epoch 20/100\n",
      "23675/23675 [==============================] - 131s 6ms/step - loss: 0.0358 - accuracy: 0.9942 - val_loss: 0.0350 - val_accuracy: 0.9943\n",
      "Epoch 21/100\n",
      "23675/23675 [==============================] - 118s 5ms/step - loss: 0.0358 - accuracy: 0.9942 - val_loss: 0.0349 - val_accuracy: 0.9943\n",
      "Epoch 22/100\n",
      "23675/23675 [==============================] - 117s 5ms/step - loss: 0.0358 - accuracy: 0.9942 - val_loss: 0.0349 - val_accuracy: 0.9943\n",
      "Epoch 23/100\n",
      "23675/23675 [==============================] - 114s 5ms/step - loss: 0.0358 - accuracy: 0.9942 - val_loss: 0.0350 - val_accuracy: 0.9943\n",
      "Epoch 24/100\n",
      "23675/23675 [==============================] - 112s 5ms/step - loss: 0.0358 - accuracy: 0.9942 - val_loss: 0.0349 - val_accuracy: 0.9943\n",
      "Epoch 25/100\n",
      "23675/23675 [==============================] - 113s 5ms/step - loss: 0.0358 - accuracy: 0.9942 - val_loss: 0.0349 - val_accuracy: 0.9943\n",
      "Epoch 26/100\n",
      "23675/23675 [==============================] - 110s 5ms/step - loss: 0.0358 - accuracy: 0.9942 - val_loss: 0.0350 - val_accuracy: 0.9943\n",
      "Epoch 27/100\n",
      "23675/23675 [==============================] - 110s 5ms/step - loss: 0.0358 - accuracy: 0.9942 - val_loss: 0.0351 - val_accuracy: 0.9943\n",
      "Epoch 28/100\n",
      "23675/23675 [==============================] - 113s 5ms/step - loss: 0.0358 - accuracy: 0.9942 - val_loss: 0.0350 - val_accuracy: 0.9943\n",
      "Epoch 29/100\n",
      "23675/23675 [==============================] - 123s 5ms/step - loss: 0.0358 - accuracy: 0.9942 - val_loss: 0.0350 - val_accuracy: 0.9943\n",
      "Epoch 30/100\n",
      "23675/23675 [==============================] - 110s 5ms/step - loss: 0.0358 - accuracy: 0.9942 - val_loss: 0.0349 - val_accuracy: 0.9943\n",
      "Epoch 31/100\n",
      "23675/23675 [==============================] - 111s 5ms/step - loss: 0.0358 - accuracy: 0.9942 - val_loss: 0.0349 - val_accuracy: 0.9943\n",
      "Epoch 32/100\n",
      "23675/23675 [==============================] - 114s 5ms/step - loss: 0.0358 - accuracy: 0.9942 - val_loss: 0.0349 - val_accuracy: 0.9943\n",
      "Epoch 33/100\n",
      "23675/23675 [==============================] - 109s 5ms/step - loss: 0.0358 - accuracy: 0.9942 - val_loss: 0.0349 - val_accuracy: 0.9943\n",
      "Epoch 34/100\n",
      "23675/23675 [==============================] - 111s 5ms/step - loss: 0.0358 - accuracy: 0.9942 - val_loss: 0.0349 - val_accuracy: 0.9943\n",
      "Epoch 35/100\n",
      "23675/23675 [==============================] - 109s 5ms/step - loss: 0.0358 - accuracy: 0.9942 - val_loss: 0.0349 - val_accuracy: 0.9943\n",
      "Epoch 36/100\n",
      "23675/23675 [==============================] - 109s 5ms/step - loss: 0.0358 - accuracy: 0.9942 - val_loss: 0.0349 - val_accuracy: 0.9943\n",
      "Epoch 37/100\n",
      "23675/23675 [==============================] - 109s 5ms/step - loss: 0.0358 - accuracy: 0.9942 - val_loss: 0.0349 - val_accuracy: 0.9943\n",
      "Epoch 38/100\n",
      "23675/23675 [==============================] - 108s 5ms/step - loss: 0.0358 - accuracy: 0.9942 - val_loss: 0.0349 - val_accuracy: 0.9943\n",
      "Epoch 39/100\n",
      "23675/23675 [==============================] - 112s 5ms/step - loss: 0.0358 - accuracy: 0.9942 - val_loss: 0.0349 - val_accuracy: 0.9943\n",
      "Epoch 40/100\n",
      "23675/23675 [==============================] - 110s 5ms/step - loss: 0.0358 - accuracy: 0.9942 - val_loss: 0.0349 - val_accuracy: 0.9943\n",
      "Epoch 41/100\n",
      "23675/23675 [==============================] - 110s 5ms/step - loss: 0.0358 - accuracy: 0.9942 - val_loss: 0.0349 - val_accuracy: 0.9943\n",
      "Epoch 42/100\n",
      "23675/23675 [==============================] - 109s 5ms/step - loss: 0.0358 - accuracy: 0.9942 - val_loss: 0.0350 - val_accuracy: 0.9943\n",
      "Epoch 43/100\n",
      "23675/23675 [==============================] - 109s 5ms/step - loss: 0.0358 - accuracy: 0.9942 - val_loss: 0.0349 - val_accuracy: 0.9943\n",
      "Epoch 44/100\n",
      "23675/23675 [==============================] - 109s 5ms/step - loss: 0.0358 - accuracy: 0.9942 - val_loss: 0.0350 - val_accuracy: 0.9943\n",
      "Epoch 45/100\n",
      "23675/23675 [==============================] - 112s 5ms/step - loss: 0.0358 - accuracy: 0.9942 - val_loss: 0.0349 - val_accuracy: 0.9943\n",
      "Epoch 46/100\n",
      "23675/23675 [==============================] - 110s 5ms/step - loss: 0.0358 - accuracy: 0.9942 - val_loss: 0.0350 - val_accuracy: 0.9943\n",
      "Epoch 47/100\n",
      "23675/23675 [==============================] - 111s 5ms/step - loss: 0.0358 - accuracy: 0.9942 - val_loss: 0.0349 - val_accuracy: 0.9943\n",
      "Epoch 48/100\n",
      "23675/23675 [==============================] - 113s 5ms/step - loss: 0.0358 - accuracy: 0.9942 - val_loss: 0.0349 - val_accuracy: 0.9943\n",
      "Epoch 49/100\n",
      "23675/23675 [==============================] - 111s 5ms/step - loss: 0.0358 - accuracy: 0.9942 - val_loss: 0.0350 - val_accuracy: 0.9943\n",
      "Epoch 50/100\n",
      "23675/23675 [==============================] - 119s 5ms/step - loss: 0.0358 - accuracy: 0.9942 - val_loss: 0.0349 - val_accuracy: 0.9943\n",
      "Epoch 51/100\n",
      "23675/23675 [==============================] - 120s 5ms/step - loss: 0.0358 - accuracy: 0.9942 - val_loss: 0.0353 - val_accuracy: 0.9943\n",
      "Epoch 52/100\n",
      "23675/23675 [==============================] - 119s 5ms/step - loss: 0.0358 - accuracy: 0.9942 - val_loss: 0.0350 - val_accuracy: 0.9943\n",
      "Epoch 53/100\n",
      "23675/23675 [==============================] - 117s 5ms/step - loss: 0.0358 - accuracy: 0.9942 - val_loss: 0.0349 - val_accuracy: 0.9943\n",
      "Epoch 54/100\n",
      "23675/23675 [==============================] - 117s 5ms/step - loss: 0.0358 - accuracy: 0.9942 - val_loss: 0.0350 - val_accuracy: 0.9943\n",
      "Epoch 55/100\n",
      "23675/23675 [==============================] - 112s 5ms/step - loss: 0.0358 - accuracy: 0.9942 - val_loss: 0.0349 - val_accuracy: 0.9943\n",
      "Epoch 56/100\n",
      "23675/23675 [==============================] - 112s 5ms/step - loss: 0.0358 - accuracy: 0.9942 - val_loss: 0.0350 - val_accuracy: 0.9943\n",
      "Epoch 57/100\n",
      "23675/23675 [==============================] - 115s 5ms/step - loss: 0.0358 - accuracy: 0.9942 - val_loss: 0.0349 - val_accuracy: 0.9943\n",
      "Epoch 58/100\n",
      "23675/23675 [==============================] - 115s 5ms/step - loss: 0.0358 - accuracy: 0.9942 - val_loss: 0.0349 - val_accuracy: 0.9943\n",
      "Epoch 59/100\n",
      "23675/23675 [==============================] - 118s 5ms/step - loss: 0.0358 - accuracy: 0.9942 - val_loss: 0.0349 - val_accuracy: 0.9943\n",
      "Epoch 60/100\n",
      "23675/23675 [==============================] - 117s 5ms/step - loss: 0.0358 - accuracy: 0.9942 - val_loss: 0.0350 - val_accuracy: 0.9943\n",
      "Epoch 61/100\n",
      "23675/23675 [==============================] - 117s 5ms/step - loss: 0.0358 - accuracy: 0.9942 - val_loss: 0.0349 - val_accuracy: 0.9943\n",
      "Epoch 62/100\n",
      "23675/23675 [==============================] - 125s 5ms/step - loss: 0.0358 - accuracy: 0.9942 - val_loss: 0.0350 - val_accuracy: 0.9943\n",
      "Epoch 63/100\n",
      "23675/23675 [==============================] - 117s 5ms/step - loss: 0.0358 - accuracy: 0.9942 - val_loss: 0.0349 - val_accuracy: 0.9943\n",
      "Epoch 64/100\n",
      "23675/23675 [==============================] - 122s 5ms/step - loss: 0.0358 - accuracy: 0.9942 - val_loss: 0.0350 - val_accuracy: 0.9943\n",
      "Epoch 65/100\n",
      "23675/23675 [==============================] - 113s 5ms/step - loss: 0.0358 - accuracy: 0.9942 - val_loss: 0.0350 - val_accuracy: 0.9943\n",
      "Epoch 66/100\n",
      "23675/23675 [==============================] - 116s 5ms/step - loss: 0.0358 - accuracy: 0.9942 - val_loss: 0.0349 - val_accuracy: 0.9943\n",
      "Epoch 67/100\n",
      "23675/23675 [==============================] - 114s 5ms/step - loss: 0.0358 - accuracy: 0.9942 - val_loss: 0.0350 - val_accuracy: 0.9943\n",
      "Epoch 68/100\n",
      "23675/23675 [==============================] - 109s 5ms/step - loss: 0.0358 - accuracy: 0.9942 - val_loss: 0.0349 - val_accuracy: 0.9943\n",
      "Epoch 69/100\n",
      "23675/23675 [==============================] - 113s 5ms/step - loss: 0.0358 - accuracy: 0.9942 - val_loss: 0.0349 - val_accuracy: 0.9943\n",
      "Epoch 70/100\n",
      "23675/23675 [==============================] - 111s 5ms/step - loss: 0.0358 - accuracy: 0.9942 - val_loss: 0.0350 - val_accuracy: 0.9943\n",
      "Epoch 71/100\n",
      "23675/23675 [==============================] - 109s 5ms/step - loss: 0.0358 - accuracy: 0.9942 - val_loss: 0.0351 - val_accuracy: 0.9943\n",
      "Epoch 72/100\n",
      "23675/23675 [==============================] - 113s 5ms/step - loss: 0.0358 - accuracy: 0.9942 - val_loss: 0.0349 - val_accuracy: 0.9943\n",
      "Epoch 73/100\n",
      "23675/23675 [==============================] - 113s 5ms/step - loss: 0.0358 - accuracy: 0.9942 - val_loss: 0.0350 - val_accuracy: 0.9943\n",
      "Epoch 74/100\n",
      "23675/23675 [==============================] - 118s 5ms/step - loss: 0.0358 - accuracy: 0.9942 - val_loss: 0.0350 - val_accuracy: 0.9943\n",
      "Epoch 75/100\n",
      "23675/23675 [==============================] - 125s 5ms/step - loss: 0.0358 - accuracy: 0.9942 - val_loss: 0.0349 - val_accuracy: 0.9943\n",
      "Epoch 76/100\n",
      "23675/23675 [==============================] - 134s 6ms/step - loss: 0.0358 - accuracy: 0.9942 - val_loss: 0.0349 - val_accuracy: 0.9943\n",
      "Epoch 77/100\n",
      "23675/23675 [==============================] - 126s 5ms/step - loss: 0.0358 - accuracy: 0.9942 - val_loss: 0.0349 - val_accuracy: 0.9943\n",
      "Epoch 78/100\n",
      "23675/23675 [==============================] - 134s 6ms/step - loss: 0.0358 - accuracy: 0.9942 - val_loss: 0.0350 - val_accuracy: 0.9943\n",
      "Epoch 79/100\n",
      "23675/23675 [==============================] - 127s 5ms/step - loss: 0.0358 - accuracy: 0.9942 - val_loss: 0.0350 - val_accuracy: 0.9943\n",
      "Epoch 80/100\n",
      "23675/23675 [==============================] - 130s 5ms/step - loss: 0.0358 - accuracy: 0.9942 - val_loss: 0.0349 - val_accuracy: 0.9943\n",
      "Epoch 81/100\n",
      "23675/23675 [==============================] - 131s 6ms/step - loss: 0.0358 - accuracy: 0.9942 - val_loss: 0.0350 - val_accuracy: 0.9943\n",
      "Epoch 82/100\n",
      "23675/23675 [==============================] - 133s 6ms/step - loss: 0.0358 - accuracy: 0.9942 - val_loss: 0.0349 - val_accuracy: 0.9943\n",
      "Epoch 83/100\n",
      "23675/23675 [==============================] - 136s 6ms/step - loss: 0.0358 - accuracy: 0.9942 - val_loss: 0.0349 - val_accuracy: 0.9943\n",
      "Epoch 84/100\n",
      "23675/23675 [==============================] - 144s 6ms/step - loss: 0.0358 - accuracy: 0.9942 - val_loss: 0.0350 - val_accuracy: 0.9943\n",
      "Epoch 85/100\n",
      "23675/23675 [==============================] - 135s 6ms/step - loss: 0.0358 - accuracy: 0.9942 - val_loss: 0.0350 - val_accuracy: 0.9943\n",
      "Epoch 86/100\n",
      "23675/23675 [==============================] - 137s 6ms/step - loss: 0.0358 - accuracy: 0.9942 - val_loss: 0.0350 - val_accuracy: 0.9943\n",
      "Epoch 87/100\n",
      "23675/23675 [==============================] - 138s 6ms/step - loss: 0.0358 - accuracy: 0.9942 - val_loss: 0.0351 - val_accuracy: 0.9943\n",
      "Epoch 88/100\n",
      "23675/23675 [==============================] - 135s 6ms/step - loss: 0.0358 - accuracy: 0.9942 - val_loss: 0.0349 - val_accuracy: 0.9943\n",
      "Epoch 89/100\n",
      "23675/23675 [==============================] - 134s 6ms/step - loss: 0.0358 - accuracy: 0.9942 - val_loss: 0.0349 - val_accuracy: 0.9943\n",
      "Epoch 90/100\n",
      "23675/23675 [==============================] - 137s 6ms/step - loss: 0.0358 - accuracy: 0.9942 - val_loss: 0.0350 - val_accuracy: 0.9943\n",
      "Epoch 91/100\n",
      "23675/23675 [==============================] - 133s 6ms/step - loss: 0.0358 - accuracy: 0.9942 - val_loss: 0.0350 - val_accuracy: 0.9943\n",
      "Epoch 92/100\n",
      "23675/23675 [==============================] - 134s 6ms/step - loss: 0.0358 - accuracy: 0.9942 - val_loss: 0.0350 - val_accuracy: 0.9943\n",
      "Epoch 93/100\n",
      "23675/23675 [==============================] - 136s 6ms/step - loss: 0.0358 - accuracy: 0.9942 - val_loss: 0.0350 - val_accuracy: 0.9943\n",
      "Epoch 94/100\n",
      "23675/23675 [==============================] - 120s 5ms/step - loss: 0.0358 - accuracy: 0.9942 - val_loss: 0.0349 - val_accuracy: 0.9943\n",
      "Epoch 95/100\n",
      "23675/23675 [==============================] - 121s 5ms/step - loss: 0.0358 - accuracy: 0.9942 - val_loss: 0.0349 - val_accuracy: 0.9943\n",
      "Epoch 96/100\n",
      "23675/23675 [==============================] - 115s 5ms/step - loss: 0.0358 - accuracy: 0.9942 - val_loss: 0.0349 - val_accuracy: 0.9943\n",
      "Epoch 97/100\n",
      "23675/23675 [==============================] - 116s 5ms/step - loss: 0.0358 - accuracy: 0.9942 - val_loss: 0.0349 - val_accuracy: 0.9943\n",
      "Epoch 98/100\n",
      "23675/23675 [==============================] - 115s 5ms/step - loss: 0.0358 - accuracy: 0.9942 - val_loss: 0.0349 - val_accuracy: 0.9943\n",
      "Epoch 99/100\n",
      "23675/23675 [==============================] - 114s 5ms/step - loss: 0.0358 - accuracy: 0.9942 - val_loss: 0.0349 - val_accuracy: 0.9943\n",
      "Epoch 100/100\n",
      "23675/23675 [==============================] - 114s 5ms/step - loss: 0.0358 - accuracy: 0.9942 - val_loss: 0.0350 - val_accuracy: 0.9943\n"
     ]
    },
    {
     "data": {
      "text/plain": [
       "<keras.callbacks.History at 0x7f83393abf10>"
      ]
     },
     "execution_count": 38,
     "metadata": {},
     "output_type": "execute_result"
    }
   ],
   "source": [
    "# Train the model\n",
    "model.fit(X_train_reshaped, y_train, epochs=100, batch_size=32, validation_data=(X_test_reshaped, y_test))"
   ]
  },
  {
   "cell_type": "code",
   "execution_count": 39,
   "metadata": {},
   "outputs": [
    {
     "name": "stdout",
     "output_type": "stream",
     "text": [
      "Test Loss: 0.03499554470181465\n",
      "Test Accuracy: 0.9943400025367737\n"
     ]
    }
   ],
   "source": [
    "# Evaluate the model\n",
    "loss, accuracy = model.evaluate(X_test_reshaped, y_test, verbose=0)\n",
    "print('Test Loss:', loss)\n",
    "print('Test Accuracy:', accuracy)\n"
   ]
  },
  {
   "cell_type": "code",
   "execution_count": 40,
   "metadata": {},
   "outputs": [
    {
     "name": "stdout",
     "output_type": "stream",
     "text": [
      "7399/7399 [==============================] - 14s 2ms/step\n"
     ]
    }
   ],
   "source": [
    "# Make predictions\n",
    "predictions = model.predict(X_test_reshaped)"
   ]
  },
  {
   "cell_type": "code",
   "execution_count": 41,
   "metadata": {},
   "outputs": [
    {
     "data": {
      "text/plain": [
       "array([[0.00484208],\n",
       "       [0.00484208],\n",
       "       [0.00484208],\n",
       "       ...,\n",
       "       [0.00484208],\n",
       "       [0.00484208],\n",
       "       [0.00484208]], dtype=float32)"
      ]
     },
     "execution_count": 41,
     "metadata": {},
     "output_type": "execute_result"
    }
   ],
   "source": [
    "predictions"
   ]
  },
  {
   "cell_type": "code",
   "execution_count": 42,
   "metadata": {},
   "outputs": [],
   "source": [
    "predicted_labels = np.round(predictions)  # Round the predictions to obtain binary labels"
   ]
  },
  {
   "cell_type": "code",
   "execution_count": 43,
   "metadata": {},
   "outputs": [
    {
     "name": "stdout",
     "output_type": "stream",
     "text": [
      "Confusion Matrix:\n",
      "[[235410      0]\n",
      " [  1340      0]]\n"
     ]
    }
   ],
   "source": [
    "# Print confusion matrix and classification report\n",
    "cm = confusion_matrix(y_test, predicted_labels)\n",
    "print('Confusion Matrix:')\n",
    "print(cm)\n"
   ]
  },
  {
   "cell_type": "code",
   "execution_count": 44,
   "metadata": {},
   "outputs": [
    {
     "name": "stdout",
     "output_type": "stream",
     "text": [
      "Classification Report:\n"
     ]
    },
    {
     "name": "stderr",
     "output_type": "stream",
     "text": [
      "/Users/chathurangishyalika/opt/anaconda3/envs/tensorflow/lib/python3.10/site-packages/sklearn/metrics/_classification.py:1334: UndefinedMetricWarning: Precision and F-score are ill-defined and being set to 0.0 in labels with no predicted samples. Use `zero_division` parameter to control this behavior.\n",
      "  _warn_prf(average, modifier, msg_start, len(result))\n"
     ]
    },
    {
     "name": "stdout",
     "output_type": "stream",
     "text": [
      "              precision    recall  f1-score   support\n",
      "\n",
      "         0.0       0.99      1.00      1.00    235410\n",
      "         1.0       0.00      0.00      0.00      1340\n",
      "\n",
      "    accuracy                           0.99    236750\n",
      "   macro avg       0.50      0.50      0.50    236750\n",
      "weighted avg       0.99      0.99      0.99    236750\n",
      "\n"
     ]
    },
    {
     "name": "stderr",
     "output_type": "stream",
     "text": [
      "/Users/chathurangishyalika/opt/anaconda3/envs/tensorflow/lib/python3.10/site-packages/sklearn/metrics/_classification.py:1334: UndefinedMetricWarning: Precision and F-score are ill-defined and being set to 0.0 in labels with no predicted samples. Use `zero_division` parameter to control this behavior.\n",
      "  _warn_prf(average, modifier, msg_start, len(result))\n",
      "/Users/chathurangishyalika/opt/anaconda3/envs/tensorflow/lib/python3.10/site-packages/sklearn/metrics/_classification.py:1334: UndefinedMetricWarning: Precision and F-score are ill-defined and being set to 0.0 in labels with no predicted samples. Use `zero_division` parameter to control this behavior.\n",
      "  _warn_prf(average, modifier, msg_start, len(result))\n"
     ]
    }
   ],
   "source": [
    "print('Classification Report:')\n",
    "print(classification_report(y_test, predicted_labels))"
   ]
  },
  {
   "cell_type": "code",
   "execution_count": null,
   "metadata": {},
   "outputs": [],
   "source": []
  }
 ],
 "metadata": {
  "kernelspec": {
   "display_name": "Python 3.8 (tensorflow)",
   "language": "python",
   "name": "tensorflow"
  },
  "language_info": {
   "codemirror_mode": {
    "name": "ipython",
    "version": 3
   },
   "file_extension": ".py",
   "mimetype": "text/x-python",
   "name": "python",
   "nbconvert_exporter": "python",
   "pygments_lexer": "ipython3",
   "version": "3.10.6"
  }
 },
 "nbformat": 4,
 "nbformat_minor": 2
}
