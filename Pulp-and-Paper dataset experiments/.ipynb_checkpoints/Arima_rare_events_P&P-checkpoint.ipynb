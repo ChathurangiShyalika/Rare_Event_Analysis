{
 "cells": [
  {
   "cell_type": "code",
   "execution_count": null,
   "id": "10892bc1",
   "metadata": {},
   "outputs": [],
   "source": [
    "%matplotlib inline\n",
    "import matplotlib.pyplot as plt\n",
    "\n",
    "import pandas as pd\n",
    "import numpy as np\n",
    "from pylab import rcParams\n",
    "\n",
    "import tensorflow as tf\n",
    "from tensorflow.keras import optimizers, Sequential\n",
    "from tensorflow.keras.models import Model\n",
    "from tensorflow.keras.utils import plot_model\n",
    "from tensorflow.keras.layers import Dense, LSTM, RepeatVector, TimeDistributed\n",
    "from tensorflow.keras.callbacks import ModelCheckpoint, TensorBoard\n",
    "\n",
    "from sklearn.preprocessing import StandardScaler\n",
    "from sklearn.model_selection import train_test_split\n",
    "from sklearn.metrics import confusion_matrix, precision_recall_curve\n",
    "from sklearn.metrics import recall_score, classification_report, auc, roc_curve\n",
    "from sklearn.metrics import precision_recall_fscore_support, f1_score\n",
    "from statsmodels.tsa.arima.model import ARIMA\n",
    "\n",
    "from sklearn.metrics import accuracy_score\n",
    "import pmdarima as pm\n",
    "\n",
    "from numpy.random import seed\n",
    "seed(7)\n",
    "tf.random.set_seed(2)\n",
    "\n",
    "from sklearn.model_selection import train_test_split\n",
    "\n",
    "SEED = 123 #used to help randomly select the data points\n",
    "DATA_SPLIT_PCT = 0.2\n",
    "\n",
    "rcParams['figure.figsize'] = 8, 6\n",
    "LABELS = [\"Normal\",\"Break\"]"
   ]
  },
  {
   "cell_type": "code",
   "execution_count": null,
   "id": "6d6eef2b",
   "metadata": {},
   "outputs": [],
   "source": [
    "df = pd.read_csv(\"processminer-rare-event-mts - data.csv\") \n",
    "df.head(n=5)  # visualize the data."
   ]
  },
  {
   "cell_type": "code",
   "execution_count": null,
   "id": "cc4ef9e7",
   "metadata": {},
   "outputs": [],
   "source": [
    "input_series = np.asarray(df)\n",
    "model_arima = ARIMA(endog=df['x1'],exog=df[['x3']], order=(0,1,1))\n",
    "model_fit = model_arima.fit()\n",
    "print(model_fit.summary())"
   ]
  },
  {
   "cell_type": "code",
   "execution_count": null,
   "id": "06f15e8c",
   "metadata": {},
   "outputs": [],
   "source": [
    "results3"
   ]
  },
  {
   "cell_type": "code",
   "execution_count": null,
   "id": "d76ba5b6",
   "metadata": {},
   "outputs": [],
   "source": [
    "model = pm.auto_arima(df['y'], \n",
    "                        m=12, seasonal=True,\n",
    "                      start_p=0, start_q=0, max_order=4, test='adf',error_action='ignore',  \n",
    "                           suppress_warnings=True,\n",
    "                      stepwise=True, trace=True)"
   ]
  },
  {
   "cell_type": "code",
   "execution_count": null,
   "id": "3f75b902",
   "metadata": {},
   "outputs": [],
   "source": [
    "model.summary()"
   ]
  },
  {
   "cell_type": "code",
   "execution_count": null,
   "id": "f1af29ac",
   "metadata": {},
   "outputs": [],
   "source": [
    "train=df[(df[\"time\"] >= '5/1/99 0:00') & (df[\"time\"]  <= '5/31/99 0:06')]\n"
   ]
  },
  {
   "cell_type": "code",
   "execution_count": null,
   "id": "e92d9cf3",
   "metadata": {},
   "outputs": [],
   "source": [
    "test=df[(df[\"time\"] > '5/31/99 0:06')]"
   ]
  },
  {
   "cell_type": "code",
   "execution_count": null,
   "id": "60c18c58",
   "metadata": {},
   "outputs": [],
   "source": [
    "len(test)"
   ]
  },
  {
   "cell_type": "code",
   "execution_count": null,
   "id": "b7d2264a",
   "metadata": {},
   "outputs": [],
   "source": [
    "df.info()"
   ]
  },
  {
   "cell_type": "code",
   "execution_count": null,
   "id": "24b6e896",
   "metadata": {},
   "outputs": [],
   "source": [
    "#Fitting the Auto ARIMA model\n",
    "model.fit(train['y'])\n"
   ]
  },
  {
   "cell_type": "code",
   "execution_count": null,
   "id": "ea9e25ea",
   "metadata": {},
   "outputs": [],
   "source": [
    "forecast=model.predict(n_periods=test.shape[0], return_conf_int=True)"
   ]
  },
  {
   "cell_type": "code",
   "execution_count": null,
   "id": "09640ddd",
   "metadata": {},
   "outputs": [],
   "source": [
    "forecast"
   ]
  },
  {
   "cell_type": "code",
   "execution_count": null,
   "id": "eb47ee3c",
   "metadata": {},
   "outputs": [],
   "source": [
    "forecast_df = pd.DataFrame(forecast[0],index = test.index,columns=['Prediction'])\n"
   ]
  },
  {
   "cell_type": "code",
   "execution_count": null,
   "id": "c2479934",
   "metadata": {},
   "outputs": [],
   "source": [
    "forecast_df"
   ]
  },
  {
   "cell_type": "code",
   "execution_count": null,
   "id": "d797d582",
   "metadata": {},
   "outputs": [],
   "source": [
    "forecast_df = pd.DataFrame(forecast[0],index = test.index,columns=['Prediction'])\n",
    "forecast_df"
   ]
  },
  {
   "cell_type": "code",
   "execution_count": null,
   "id": "dba15db8",
   "metadata": {},
   "outputs": [],
   "source": [
    "import matplotlib.pyplot as plt\n"
   ]
  },
  {
   "cell_type": "code",
   "execution_count": null,
   "id": "fd57da82",
   "metadata": {},
   "outputs": [],
   "source": [
    "pd.concat([df['y'],forecast_df],axis=1).plot()\n"
   ]
  },
  {
   "cell_type": "code",
   "execution_count": null,
   "id": "b5723f13",
   "metadata": {},
   "outputs": [],
   "source": [
    "test['y'].value_counts()"
   ]
  },
  {
   "cell_type": "code",
   "execution_count": null,
   "id": "9ec9ab1e",
   "metadata": {},
   "outputs": [],
   "source": [
    "train['y'].value_counts()"
   ]
  },
  {
   "cell_type": "code",
   "execution_count": null,
   "id": "0c5fa610",
   "metadata": {},
   "outputs": [],
   "source": [
    "forecast_df['Prediction'].value_counts()"
   ]
  },
  {
   "cell_type": "code",
   "execution_count": null,
   "id": "31fd5e0b",
   "metadata": {},
   "outputs": [],
   "source": [
    "#Predict the unseen future time series values\n"
   ]
  },
  {
   "cell_type": "code",
   "execution_count": null,
   "id": "a4efd7c8",
   "metadata": {},
   "outputs": [],
   "source": [
    "forecast1=model.predict(n_periods=1000, return_conf_int=True)\n",
    "forecast_range=pd.date_range(start='5/31/99 0:06', periods=1000,freq='M')"
   ]
  },
  {
   "cell_type": "code",
   "execution_count": null,
   "id": "12d857c0",
   "metadata": {},
   "outputs": [],
   "source": [
    "forecast1_df = pd.DataFrame(forecast1[0],index =forecast_range,columns=['Prediction'])\n"
   ]
  },
  {
   "cell_type": "code",
   "execution_count": null,
   "id": "81872da5",
   "metadata": {},
   "outputs": [],
   "source": [
    "pd.concat([df['y'],forecast1_df],axis=1).plot()"
   ]
  },
  {
   "cell_type": "code",
   "execution_count": null,
   "id": "38c55513",
   "metadata": {},
   "outputs": [],
   "source": [
    "type(forecast)"
   ]
  },
  {
   "cell_type": "code",
   "execution_count": null,
   "id": "f510fb80",
   "metadata": {},
   "outputs": [],
   "source": [
    "import numpy\n",
    "ss=numpy.asarray(forecast[0])"
   ]
  },
  {
   "cell_type": "code",
   "execution_count": null,
   "id": "bc5ddb57",
   "metadata": {},
   "outputs": [],
   "source": [
    "ss"
   ]
  },
  {
   "cell_type": "code",
   "execution_count": null,
   "id": "b467df2e",
   "metadata": {},
   "outputs": [],
   "source": [
    "def get_class(pred_y_0):\n",
    "    temp = []\n",
    "    k = 1\n",
    "    for i in pred_y_0:\n",
    "        # print(i[0])\n",
    "        if (i >= 0.5):\n",
    "            temp.append(1)\n",
    "        else:\n",
    "            temp.append(0)\n",
    "        # if k==100:\n",
    "        #    break\n",
    "        # k = k+1\n",
    "    return temp\n",
    "\n",
    "\n",
    "pred_classes = get_class(ss)"
   ]
  },
  {
   "cell_type": "code",
   "execution_count": null,
   "id": "3815e939",
   "metadata": {},
   "outputs": [],
   "source": [
    "pred_classes"
   ]
  },
  {
   "cell_type": "code",
   "execution_count": null,
   "id": "fed1152d",
   "metadata": {},
   "outputs": [],
   "source": [
    "target_names = ['class 0', 'class 1']\n",
    "print(classification_report(test['y'], pred_classes, target_names=target_names))\n",
    "\n",
    "confusion_matrix(test['y'], pred_classes)"
   ]
  },
  {
   "cell_type": "code",
   "execution_count": null,
   "id": "a4ba35e5",
   "metadata": {},
   "outputs": [],
   "source": []
  }
 ],
 "metadata": {
  "kernelspec": {
   "display_name": "Python 3 (ipykernel)",
   "language": "python",
   "name": "python3"
  },
  "language_info": {
   "codemirror_mode": {
    "name": "ipython",
    "version": 3
   },
   "file_extension": ".py",
   "mimetype": "text/x-python",
   "name": "python",
   "nbconvert_exporter": "python",
   "pygments_lexer": "ipython3",
   "version": "3.9.12"
  }
 },
 "nbformat": 4,
 "nbformat_minor": 5
}
