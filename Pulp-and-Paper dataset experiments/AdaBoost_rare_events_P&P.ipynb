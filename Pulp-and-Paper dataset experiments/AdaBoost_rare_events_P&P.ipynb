{
 "cells": [
  {
   "cell_type": "code",
   "execution_count": null,
   "id": "10892bc1",
   "metadata": {},
   "outputs": [],
   "source": [
    "%matplotlib inline\n",
    "import matplotlib.pyplot as plt\n",
    "import seaborn as sns\n",
    "\n",
    "import pandas as pd\n",
    "import numpy as np\n",
    "from pylab import rcParams\n",
    "\n",
    "import tensorflow as tf\n",
    "from tensorflow.keras import optimizers, Sequential\n",
    "from tensorflow.keras.models import Model\n",
    "from tensorflow.keras.utils import plot_model\n",
    "from tensorflow.keras.layers import Dense, LSTM, RepeatVector, TimeDistributed\n",
    "from tensorflow.keras.callbacks import ModelCheckpoint, TensorBoard\n",
    "\n",
    "from sklearn.preprocessing import StandardScaler\n",
    "from sklearn.model_selection import train_test_split\n",
    "from sklearn.metrics import confusion_matrix, precision_recall_curve\n",
    "from sklearn.metrics import recall_score, classification_report, auc, roc_curve\n",
    "from sklearn.metrics import precision_recall_fscore_support, f1_score\n",
    "\n",
    "# import SVC classifier\n",
    "from sklearn.svm import SVC\n",
    "\n",
    "\n",
    "# import metrics to compute accuracy\n",
    "from sklearn.metrics import accuracy_score\n",
    "\n",
    "\n",
    "from numpy.random import seed\n",
    "seed(7)\n",
    "tf.random.set_seed(2)\n",
    "\n",
    "from sklearn.model_selection import train_test_split\n",
    "\n",
    "SEED = 123 #used to help randomly select the data points\n",
    "DATA_SPLIT_PCT = 0.2\n",
    "\n",
    "rcParams['figure.figsize'] = 8, 6\n",
    "LABELS = [\"Normal\",\"Break\"]"
   ]
  },
  {
   "cell_type": "code",
   "execution_count": null,
   "id": "6d6eef2b",
   "metadata": {},
   "outputs": [],
   "source": [
    "df = pd.read_csv(\"processminer-rare-event-mts - data.csv\") \n",
    "df.head(n=5)  # visualize the data."
   ]
  },
  {
   "cell_type": "code",
   "execution_count": null,
   "id": "6570eb91",
   "metadata": {},
   "outputs": [],
   "source": [
    "sign = lambda x: (1, -1)[x < 0]\n",
    "\n",
    "def curve_shift(df, shift_by):\n",
    "    '''\n",
    "    This function will shift the binary labels in a dataframe.\n",
    "    The curve shift will be with respect to the 1s. \n",
    "    For example, if shift is -2, the following process\n",
    "    will happen: if row n is labeled as 1, then\n",
    "    - Make row (n+shift_by):(n+shift_by-1) = 1.\n",
    "    - Remove row n.\n",
    "    i.e. the labels will be shifted up to 2 rows up.\n",
    "    \n",
    "    Inputs:\n",
    "    df       A pandas dataframe with a binary labeled column. \n",
    "             This labeled column should be named as 'y'.\n",
    "    shift_by An integer denoting the number of rows to shift.\n",
    "    \n",
    "    Output\n",
    "    df       A dataframe with the binary labels shifted by shift.\n",
    "    '''\n",
    "\n",
    "    vector = df['y'].copy()\n",
    "    for s in range(abs(shift_by)):\n",
    "        tmp = vector.shift(sign(shift_by))\n",
    "        tmp = tmp.fillna(0)\n",
    "        vector += tmp\n",
    "    labelcol = 'y'\n",
    "    # Add vector to the df\n",
    "    df.insert(loc=0, column=labelcol+'tmp', value=vector)\n",
    "    # Remove the rows with labelcol == 1.\n",
    "    df = df.drop(df[df[labelcol] == 1].index)\n",
    "    # Drop labelcol and rename the tmp col as labelcol\n",
    "    df = df.drop(labelcol, axis=1)\n",
    "    df = df.rename(columns={labelcol+'tmp': labelcol})\n",
    "    # Make the labelcol binary\n",
    "    df.loc[df[labelcol] > 0, labelcol] = 1\n",
    "\n",
    "    return df"
   ]
  },
  {
   "cell_type": "code",
   "execution_count": null,
   "id": "92d07812",
   "metadata": {},
   "outputs": [],
   "source": [
    "'''\n",
    "Shift the data by 2 units, equal to 4 minutes.\n",
    "\n",
    "Test: Testing whether the shift happened correctly.\n",
    "'''\n",
    "print('Before shifting')  # Positive labeled rows before shifting.\n",
    "one_indexes = df.index[df['y'] == 1]\n",
    "display(df.iloc[(one_indexes[0]-3):(one_indexes[0]+2), 0:5].head(n=5))\n",
    "\n",
    "# Shift the response column y by 2 rows to do a 4-min ahead prediction.\n",
    "df = curve_shift(df, shift_by = -2)\n",
    "\n",
    "print('After shifting')  # Validating if the shift happened correctly.\n",
    "display(df.iloc[(one_indexes[0]-4):(one_indexes[0]+1), 0:5].head(n=5))  "
   ]
  },
  {
   "cell_type": "code",
   "execution_count": null,
   "id": "f5b7c470",
   "metadata": {},
   "outputs": [],
   "source": [
    "# Remove time column, and the categorical columns\n",
    "df = df.drop(['time', 'x28', 'x61'], axis=1)"
   ]
  },
  {
   "cell_type": "code",
   "execution_count": null,
   "id": "5af817a9",
   "metadata": {},
   "outputs": [],
   "source": [
    "X = df.drop(['y'], axis=1)\n",
    "\n",
    "y = df['y']"
   ]
  },
  {
   "cell_type": "code",
   "execution_count": null,
   "id": "b4549121",
   "metadata": {},
   "outputs": [],
   "source": [
    "\n",
    "X_train, X_test, y_train, y_test = train_test_split(X, y, test_size = 0.2, random_state = 0)\n",
    "X_train.shape, X_test.shape"
   ]
  },
  {
   "cell_type": "code",
   "execution_count": null,
   "id": "565eb138",
   "metadata": {},
   "outputs": [],
   "source": [
    "# Feature scaling"
   ]
  },
  {
   "cell_type": "code",
   "execution_count": null,
   "id": "9902a7e2",
   "metadata": {},
   "outputs": [],
   "source": [
    "cols = X_train.columns\n",
    "\n",
    "scaler = StandardScaler()\n",
    "X_train = scaler.fit_transform(X_train)\n",
    "X_test = scaler.transform(X_test)\n",
    "\n",
    "X_train = pd.DataFrame(X_train, columns=[cols])\n",
    "X_test = pd.DataFrame(X_test, columns=[cols])\n"
   ]
  },
  {
   "cell_type": "code",
   "execution_count": null,
   "id": "c8635753",
   "metadata": {},
   "outputs": [],
   "source": [
    "from sklearn.ensemble import AdaBoostClassifier\n",
    "from sklearn.model_selection import cross_val_score\n",
    "from sklearn.model_selection import RepeatedStratifiedKFold\n",
    "from numpy import mean\n",
    "from numpy import std\n",
    "\n",
    "# define model\n",
    "model = AdaBoostClassifier()\n",
    "# evaluate the model\n",
    "cv = RepeatedStratifiedKFold(n_splits=10, n_repeats=3, random_state=1)\n",
    "n_scores = cross_val_score(model, X, y, scoring='accuracy', cv=cv, n_jobs=-1, error_score='raise')\n",
    "# report performance\n",
    "print('Accuracy: %.3f (%.3f)' % (mean(n_scores), std(n_scores)))"
   ]
  },
  {
   "cell_type": "code",
   "execution_count": null,
   "id": "c6ddffdc",
   "metadata": {},
   "outputs": [],
   "source": [
    "clf_0 = model.fit(X_train, y_train)"
   ]
  },
  {
   "cell_type": "code",
   "execution_count": null,
   "id": "5bcc7dd8",
   "metadata": {},
   "outputs": [],
   "source": [
    "pred_y_0 = clf_0.predict(X_test)\n",
    "\n",
    "print(accuracy_score(pred_y_0, y_test))"
   ]
  },
  {
   "cell_type": "code",
   "execution_count": null,
   "id": "c7a701ef",
   "metadata": {},
   "outputs": [],
   "source": [
    "target_names = ['class 0', 'class 1']\n",
    "print(classification_report(y_test, pred_y_0, target_names=target_names))\n",
    "\n",
    "confusion_matrix(y_test, pred_y_0)"
   ]
  },
  {
   "cell_type": "markdown",
   "id": "7c49ac1f",
   "metadata": {},
   "source": [
    "# Tune with GridSearch CV"
   ]
  },
  {
   "cell_type": "code",
   "execution_count": null,
   "id": "3616d4e8",
   "metadata": {},
   "outputs": [],
   "source": [
    "from sklearn.model_selection import GridSearchCV\n",
    "from sklearn.model_selection import RepeatedStratifiedKFold\n",
    "\n",
    "# define the grid of values to search\n",
    "grid = dict()\n",
    "grid['n_estimators'] = [10, 50, 100, 500]\n",
    "grid['learning_rate'] = [0.0001, 0.001, 0.01, 0.1, 1.0]\n",
    "# define the evaluation procedure\n",
    "cv = RepeatedStratifiedKFold(n_splits=10, n_repeats=3, random_state=1)\n",
    "# define the grid search procedure\n",
    "grid_search = GridSearchCV(estimator=model, param_grid=grid, n_jobs=-1, cv=cv, scoring='accuracy')\n",
    "# execute the grid search\n",
    "grid_result = grid_search.fit(X, y)\n",
    "# summarize the best score and configuration\n",
    "print(\"Best: %f using %s\" % (grid_result.best_score_, grid_result.best_params_))\n",
    "# summarize all scores that were evaluated\n",
    "means = grid_result.cv_results_['mean_test_score']\n",
    "stds = grid_result.cv_results_['std_test_score']\n",
    "params = grid_result.cv_results_['params']\n",
    "for mean, stdev, param in zip(means, stds, params):\n",
    "    print(\"%f (%f) with: %r\" % (mean, stdev, param))\n"
   ]
  },
  {
   "cell_type": "code",
   "execution_count": null,
   "id": "e5a062bd",
   "metadata": {},
   "outputs": [],
   "source": [
    "model = AdaBoostClassifier(n_estimators=10, learning_rate=1.0)"
   ]
  },
  {
   "cell_type": "code",
   "execution_count": null,
   "id": "7ac43fed",
   "metadata": {},
   "outputs": [],
   "source": [
    "clf_1 = model.fit(X_train, y_train)"
   ]
  },
  {
   "cell_type": "code",
   "execution_count": null,
   "id": "389c04f6",
   "metadata": {},
   "outputs": [],
   "source": [
    "pred_y_1 = clf_1.predict(X_test)\n",
    "print(accuracy_score(pred_y_1, y_test))"
   ]
  },
  {
   "cell_type": "code",
   "execution_count": null,
   "id": "14b4e96b",
   "metadata": {},
   "outputs": [],
   "source": [
    "target_names = ['class 0', 'class 1']\n",
    "print(classification_report(y_test, pred_y_1, target_names=target_names))\n",
    "\n",
    "confusion_matrix(y_test, pred_y_1)"
   ]
  },
  {
   "cell_type": "code",
   "execution_count": null,
   "id": "b70d1c5c",
   "metadata": {},
   "outputs": [],
   "source": [
    "#using weighted training from Logistic regression\n",
    "from sklearn.linear_model import LogisticRegression\n",
    "model = AdaBoostClassifier(base_estimator=LogisticRegression())\n"
   ]
  },
  {
   "cell_type": "code",
   "execution_count": null,
   "id": "1bb5b130",
   "metadata": {},
   "outputs": [],
   "source": [
    "clf_2 = model.fit(X_train, y_train)"
   ]
  },
  {
   "cell_type": "code",
   "execution_count": null,
   "id": "62356056",
   "metadata": {},
   "outputs": [],
   "source": [
    "pred_y_2 = clf_2.predict(X_test)\n",
    "print(accuracy_score(pred_y_2, y_test))\n",
    "target_names = ['class 0', 'class 1']\n",
    "print(classification_report(y_test, pred_y_2, target_names=target_names))\n",
    "\n",
    "# View confusion matrix for test data and predictions\n",
    "confusion_matrix(y_test, pred_y_2)"
   ]
  },
  {
   "cell_type": "code",
   "execution_count": null,
   "id": "d7586962",
   "metadata": {},
   "outputs": [],
   "source": []
  }
 ],
 "metadata": {
  "kernelspec": {
   "display_name": "Python 3 (ipykernel)",
   "language": "python",
   "name": "python3"
  },
  "language_info": {
   "codemirror_mode": {
    "name": "ipython",
    "version": 3
   },
   "file_extension": ".py",
   "mimetype": "text/x-python",
   "name": "python",
   "nbconvert_exporter": "python",
   "pygments_lexer": "ipython3",
   "version": "3.9.12"
  }
 },
 "nbformat": 4,
 "nbformat_minor": 5
}
