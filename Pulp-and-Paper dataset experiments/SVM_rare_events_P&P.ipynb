{
 "cells": [
  {
   "cell_type": "code",
   "execution_count": 1,
   "id": "3de3c1c5",
   "metadata": {},
   "outputs": [],
   "source": [
    "%matplotlib inline\n",
    "import matplotlib.pyplot as plt\n",
    "import seaborn as sns\n",
    "\n",
    "import pandas as pd\n",
    "import numpy as np\n",
    "from pylab import rcParams\n",
    "\n",
    "import tensorflow as tf\n",
    "from tensorflow.keras import optimizers, Sequential\n",
    "from tensorflow.keras.models import Model\n",
    "from tensorflow.keras.utils import plot_model\n",
    "from tensorflow.keras.layers import Dense, LSTM, RepeatVector, TimeDistributed\n",
    "from tensorflow.keras.callbacks import ModelCheckpoint, TensorBoard\n",
    "\n",
    "from sklearn.preprocessing import StandardScaler\n",
    "from sklearn.model_selection import train_test_split\n",
    "from sklearn.metrics import confusion_matrix, precision_recall_curve\n",
    "from sklearn.metrics import recall_score, classification_report, auc, roc_curve\n",
    "from sklearn.metrics import precision_recall_fscore_support, f1_score\n",
    "\n",
    "# import SVC classifier\n",
    "from sklearn.svm import SVC\n",
    "\n",
    "\n",
    "# import metrics to compute accuracy\n",
    "from sklearn.metrics import accuracy_score\n",
    "\n",
    "\n",
    "from numpy.random import seed\n",
    "seed(7)\n",
    "tf.random.set_seed(2)\n",
    "\n",
    "from sklearn.model_selection import train_test_split\n",
    "\n",
    "SEED = 123 #used to help randomly select the data points\n",
    "DATA_SPLIT_PCT = 0.2\n",
    "\n",
    "rcParams['figure.figsize'] = 8, 6\n",
    "LABELS = [\"Normal\",\"Break\"]"
   ]
  },
  {
   "cell_type": "code",
   "execution_count": 2,
   "id": "e195c601",
   "metadata": {},
   "outputs": [
    {
     "data": {
      "text/html": [
       "<div>\n",
       "<style scoped>\n",
       "    .dataframe tbody tr th:only-of-type {\n",
       "        vertical-align: middle;\n",
       "    }\n",
       "\n",
       "    .dataframe tbody tr th {\n",
       "        vertical-align: top;\n",
       "    }\n",
       "\n",
       "    .dataframe thead th {\n",
       "        text-align: right;\n",
       "    }\n",
       "</style>\n",
       "<table border=\"1\" class=\"dataframe\">\n",
       "  <thead>\n",
       "    <tr style=\"text-align: right;\">\n",
       "      <th></th>\n",
       "      <th>time</th>\n",
       "      <th>y</th>\n",
       "      <th>x1</th>\n",
       "      <th>x2</th>\n",
       "      <th>x3</th>\n",
       "      <th>x4</th>\n",
       "      <th>x5</th>\n",
       "      <th>x6</th>\n",
       "      <th>x7</th>\n",
       "      <th>x8</th>\n",
       "      <th>...</th>\n",
       "      <th>x52</th>\n",
       "      <th>x53</th>\n",
       "      <th>x54</th>\n",
       "      <th>x55</th>\n",
       "      <th>x56</th>\n",
       "      <th>x57</th>\n",
       "      <th>x58</th>\n",
       "      <th>x59</th>\n",
       "      <th>x60</th>\n",
       "      <th>x61</th>\n",
       "    </tr>\n",
       "  </thead>\n",
       "  <tbody>\n",
       "    <tr>\n",
       "      <th>0</th>\n",
       "      <td>5/1/99 0:00</td>\n",
       "      <td>0</td>\n",
       "      <td>0.376665</td>\n",
       "      <td>-4.596435</td>\n",
       "      <td>-4.095756</td>\n",
       "      <td>13.497687</td>\n",
       "      <td>-0.118830</td>\n",
       "      <td>-20.669883</td>\n",
       "      <td>0.000732</td>\n",
       "      <td>-0.061114</td>\n",
       "      <td>...</td>\n",
       "      <td>10.091721</td>\n",
       "      <td>0.053279</td>\n",
       "      <td>-4.936434</td>\n",
       "      <td>-24.590146</td>\n",
       "      <td>18.515436</td>\n",
       "      <td>3.473400</td>\n",
       "      <td>0.033444</td>\n",
       "      <td>0.953219</td>\n",
       "      <td>0.006076</td>\n",
       "      <td>0</td>\n",
       "    </tr>\n",
       "    <tr>\n",
       "      <th>1</th>\n",
       "      <td>5/1/99 0:02</td>\n",
       "      <td>0</td>\n",
       "      <td>0.475720</td>\n",
       "      <td>-4.542502</td>\n",
       "      <td>-4.018359</td>\n",
       "      <td>16.230659</td>\n",
       "      <td>-0.128733</td>\n",
       "      <td>-18.758079</td>\n",
       "      <td>0.000732</td>\n",
       "      <td>-0.061114</td>\n",
       "      <td>...</td>\n",
       "      <td>10.095871</td>\n",
       "      <td>0.062801</td>\n",
       "      <td>-4.937179</td>\n",
       "      <td>-32.413266</td>\n",
       "      <td>22.760065</td>\n",
       "      <td>2.682933</td>\n",
       "      <td>0.033536</td>\n",
       "      <td>1.090502</td>\n",
       "      <td>0.006083</td>\n",
       "      <td>0</td>\n",
       "    </tr>\n",
       "    <tr>\n",
       "      <th>2</th>\n",
       "      <td>5/1/99 0:04</td>\n",
       "      <td>0</td>\n",
       "      <td>0.363848</td>\n",
       "      <td>-4.681394</td>\n",
       "      <td>-4.353147</td>\n",
       "      <td>14.127997</td>\n",
       "      <td>-0.138636</td>\n",
       "      <td>-17.836632</td>\n",
       "      <td>0.010803</td>\n",
       "      <td>-0.061114</td>\n",
       "      <td>...</td>\n",
       "      <td>10.100265</td>\n",
       "      <td>0.072322</td>\n",
       "      <td>-4.937924</td>\n",
       "      <td>-34.183774</td>\n",
       "      <td>27.004663</td>\n",
       "      <td>3.537487</td>\n",
       "      <td>0.033629</td>\n",
       "      <td>1.840540</td>\n",
       "      <td>0.006090</td>\n",
       "      <td>0</td>\n",
       "    </tr>\n",
       "    <tr>\n",
       "      <th>3</th>\n",
       "      <td>5/1/99 0:06</td>\n",
       "      <td>0</td>\n",
       "      <td>0.301590</td>\n",
       "      <td>-4.758934</td>\n",
       "      <td>-4.023612</td>\n",
       "      <td>13.161566</td>\n",
       "      <td>-0.148142</td>\n",
       "      <td>-18.517601</td>\n",
       "      <td>0.002075</td>\n",
       "      <td>-0.061114</td>\n",
       "      <td>...</td>\n",
       "      <td>10.104660</td>\n",
       "      <td>0.081600</td>\n",
       "      <td>-4.938669</td>\n",
       "      <td>-35.954281</td>\n",
       "      <td>21.672449</td>\n",
       "      <td>3.986095</td>\n",
       "      <td>0.033721</td>\n",
       "      <td>2.554880</td>\n",
       "      <td>0.006097</td>\n",
       "      <td>0</td>\n",
       "    </tr>\n",
       "    <tr>\n",
       "      <th>4</th>\n",
       "      <td>5/1/99 0:08</td>\n",
       "      <td>0</td>\n",
       "      <td>0.265578</td>\n",
       "      <td>-4.749928</td>\n",
       "      <td>-4.333150</td>\n",
       "      <td>15.267340</td>\n",
       "      <td>-0.155314</td>\n",
       "      <td>-17.505913</td>\n",
       "      <td>0.000732</td>\n",
       "      <td>-0.061114</td>\n",
       "      <td>...</td>\n",
       "      <td>10.109054</td>\n",
       "      <td>0.091121</td>\n",
       "      <td>-4.939414</td>\n",
       "      <td>-37.724789</td>\n",
       "      <td>21.907251</td>\n",
       "      <td>3.601573</td>\n",
       "      <td>0.033777</td>\n",
       "      <td>1.410494</td>\n",
       "      <td>0.006105</td>\n",
       "      <td>0</td>\n",
       "    </tr>\n",
       "  </tbody>\n",
       "</table>\n",
       "<p>5 rows × 63 columns</p>\n",
       "</div>"
      ],
      "text/plain": [
       "          time  y        x1        x2        x3         x4        x5  \\\n",
       "0  5/1/99 0:00  0  0.376665 -4.596435 -4.095756  13.497687 -0.118830   \n",
       "1  5/1/99 0:02  0  0.475720 -4.542502 -4.018359  16.230659 -0.128733   \n",
       "2  5/1/99 0:04  0  0.363848 -4.681394 -4.353147  14.127997 -0.138636   \n",
       "3  5/1/99 0:06  0  0.301590 -4.758934 -4.023612  13.161566 -0.148142   \n",
       "4  5/1/99 0:08  0  0.265578 -4.749928 -4.333150  15.267340 -0.155314   \n",
       "\n",
       "          x6        x7        x8  ...        x52       x53       x54  \\\n",
       "0 -20.669883  0.000732 -0.061114  ...  10.091721  0.053279 -4.936434   \n",
       "1 -18.758079  0.000732 -0.061114  ...  10.095871  0.062801 -4.937179   \n",
       "2 -17.836632  0.010803 -0.061114  ...  10.100265  0.072322 -4.937924   \n",
       "3 -18.517601  0.002075 -0.061114  ...  10.104660  0.081600 -4.938669   \n",
       "4 -17.505913  0.000732 -0.061114  ...  10.109054  0.091121 -4.939414   \n",
       "\n",
       "         x55        x56       x57       x58       x59       x60  x61  \n",
       "0 -24.590146  18.515436  3.473400  0.033444  0.953219  0.006076    0  \n",
       "1 -32.413266  22.760065  2.682933  0.033536  1.090502  0.006083    0  \n",
       "2 -34.183774  27.004663  3.537487  0.033629  1.840540  0.006090    0  \n",
       "3 -35.954281  21.672449  3.986095  0.033721  2.554880  0.006097    0  \n",
       "4 -37.724789  21.907251  3.601573  0.033777  1.410494  0.006105    0  \n",
       "\n",
       "[5 rows x 63 columns]"
      ]
     },
     "execution_count": 2,
     "metadata": {},
     "output_type": "execute_result"
    }
   ],
   "source": [
    "df = pd.read_csv(\"processminer-rare-event-mts - data.csv\") \n",
    "df.head(n=5)  # visualize the data."
   ]
  },
  {
   "cell_type": "code",
   "execution_count": 3,
   "id": "8fb98011",
   "metadata": {},
   "outputs": [],
   "source": [
    "sign = lambda x: (1, -1)[x < 0]\n",
    "\n",
    "def curve_shift(df, shift_by):\n",
    "    '''\n",
    "    This function will shift the binary labels in a dataframe.\n",
    "    The curve shift will be with respect to the 1s. \n",
    "    For example, if shift is -2, the following process\n",
    "    will happen: if row n is labeled as 1, then\n",
    "    - Make row (n+shift_by):(n+shift_by-1) = 1.\n",
    "    - Remove row n.\n",
    "    i.e. the labels will be shifted up to 2 rows up.\n",
    "    \n",
    "    Inputs:\n",
    "    df       A pandas dataframe with a binary labeled column. \n",
    "             This labeled column should be named as 'y'.\n",
    "    shift_by An integer denoting the number of rows to shift.\n",
    "    \n",
    "    Output\n",
    "    df       A dataframe with the binary labels shifted by shift.\n",
    "    '''\n",
    "\n",
    "    vector = df['y'].copy()\n",
    "    for s in range(abs(shift_by)):\n",
    "        tmp = vector.shift(sign(shift_by))\n",
    "        tmp = tmp.fillna(0)\n",
    "        vector += tmp\n",
    "    labelcol = 'y'\n",
    "    # Add vector to the df\n",
    "    df.insert(loc=0, column=labelcol+'tmp', value=vector)\n",
    "    # Remove the rows with labelcol == 1.\n",
    "    df = df.drop(df[df[labelcol] == 1].index)\n",
    "    # Drop labelcol and rename the tmp col as labelcol\n",
    "    df = df.drop(labelcol, axis=1)\n",
    "    df = df.rename(columns={labelcol+'tmp': labelcol})\n",
    "    # Make the labelcol binary\n",
    "    df.loc[df[labelcol] > 0, labelcol] = 1\n",
    "\n",
    "    return df"
   ]
  },
  {
   "cell_type": "code",
   "execution_count": 4,
   "id": "951e980a",
   "metadata": {},
   "outputs": [
    {
     "name": "stdout",
     "output_type": "stream",
     "text": [
      "Before shifting\n"
     ]
    },
    {
     "data": {
      "text/html": [
       "<div>\n",
       "<style scoped>\n",
       "    .dataframe tbody tr th:only-of-type {\n",
       "        vertical-align: middle;\n",
       "    }\n",
       "\n",
       "    .dataframe tbody tr th {\n",
       "        vertical-align: top;\n",
       "    }\n",
       "\n",
       "    .dataframe thead th {\n",
       "        text-align: right;\n",
       "    }\n",
       "</style>\n",
       "<table border=\"1\" class=\"dataframe\">\n",
       "  <thead>\n",
       "    <tr style=\"text-align: right;\">\n",
       "      <th></th>\n",
       "      <th>time</th>\n",
       "      <th>y</th>\n",
       "      <th>x1</th>\n",
       "      <th>x2</th>\n",
       "      <th>x3</th>\n",
       "    </tr>\n",
       "  </thead>\n",
       "  <tbody>\n",
       "    <tr>\n",
       "      <th>256</th>\n",
       "      <td>5/1/99 8:32</td>\n",
       "      <td>0</td>\n",
       "      <td>1.016235</td>\n",
       "      <td>-4.058394</td>\n",
       "      <td>-1.097158</td>\n",
       "    </tr>\n",
       "    <tr>\n",
       "      <th>257</th>\n",
       "      <td>5/1/99 8:34</td>\n",
       "      <td>0</td>\n",
       "      <td>1.005602</td>\n",
       "      <td>-3.876199</td>\n",
       "      <td>-1.074373</td>\n",
       "    </tr>\n",
       "    <tr>\n",
       "      <th>258</th>\n",
       "      <td>5/1/99 8:36</td>\n",
       "      <td>0</td>\n",
       "      <td>0.933933</td>\n",
       "      <td>-3.868467</td>\n",
       "      <td>-1.249954</td>\n",
       "    </tr>\n",
       "    <tr>\n",
       "      <th>259</th>\n",
       "      <td>5/1/99 8:38</td>\n",
       "      <td>1</td>\n",
       "      <td>0.892311</td>\n",
       "      <td>-13.332664</td>\n",
       "      <td>-10.006578</td>\n",
       "    </tr>\n",
       "    <tr>\n",
       "      <th>260</th>\n",
       "      <td>5/1/99 10:50</td>\n",
       "      <td>0</td>\n",
       "      <td>0.020062</td>\n",
       "      <td>-3.987897</td>\n",
       "      <td>-1.248529</td>\n",
       "    </tr>\n",
       "  </tbody>\n",
       "</table>\n",
       "</div>"
      ],
      "text/plain": [
       "             time  y        x1         x2         x3\n",
       "256   5/1/99 8:32  0  1.016235  -4.058394  -1.097158\n",
       "257   5/1/99 8:34  0  1.005602  -3.876199  -1.074373\n",
       "258   5/1/99 8:36  0  0.933933  -3.868467  -1.249954\n",
       "259   5/1/99 8:38  1  0.892311 -13.332664 -10.006578\n",
       "260  5/1/99 10:50  0  0.020062  -3.987897  -1.248529"
      ]
     },
     "metadata": {},
     "output_type": "display_data"
    },
    {
     "name": "stdout",
     "output_type": "stream",
     "text": [
      "After shifting\n"
     ]
    },
    {
     "data": {
      "text/html": [
       "<div>\n",
       "<style scoped>\n",
       "    .dataframe tbody tr th:only-of-type {\n",
       "        vertical-align: middle;\n",
       "    }\n",
       "\n",
       "    .dataframe tbody tr th {\n",
       "        vertical-align: top;\n",
       "    }\n",
       "\n",
       "    .dataframe thead th {\n",
       "        text-align: right;\n",
       "    }\n",
       "</style>\n",
       "<table border=\"1\" class=\"dataframe\">\n",
       "  <thead>\n",
       "    <tr style=\"text-align: right;\">\n",
       "      <th></th>\n",
       "      <th>y</th>\n",
       "      <th>time</th>\n",
       "      <th>x1</th>\n",
       "      <th>x2</th>\n",
       "      <th>x3</th>\n",
       "    </tr>\n",
       "  </thead>\n",
       "  <tbody>\n",
       "    <tr>\n",
       "      <th>255</th>\n",
       "      <td>0.0</td>\n",
       "      <td>5/1/99 8:30</td>\n",
       "      <td>0.997107</td>\n",
       "      <td>-3.865720</td>\n",
       "      <td>-1.133779</td>\n",
       "    </tr>\n",
       "    <tr>\n",
       "      <th>256</th>\n",
       "      <td>0.0</td>\n",
       "      <td>5/1/99 8:32</td>\n",
       "      <td>1.016235</td>\n",
       "      <td>-4.058394</td>\n",
       "      <td>-1.097158</td>\n",
       "    </tr>\n",
       "    <tr>\n",
       "      <th>257</th>\n",
       "      <td>1.0</td>\n",
       "      <td>5/1/99 8:34</td>\n",
       "      <td>1.005602</td>\n",
       "      <td>-3.876199</td>\n",
       "      <td>-1.074373</td>\n",
       "    </tr>\n",
       "    <tr>\n",
       "      <th>258</th>\n",
       "      <td>1.0</td>\n",
       "      <td>5/1/99 8:36</td>\n",
       "      <td>0.933933</td>\n",
       "      <td>-3.868467</td>\n",
       "      <td>-1.249954</td>\n",
       "    </tr>\n",
       "    <tr>\n",
       "      <th>260</th>\n",
       "      <td>0.0</td>\n",
       "      <td>5/1/99 10:50</td>\n",
       "      <td>0.020062</td>\n",
       "      <td>-3.987897</td>\n",
       "      <td>-1.248529</td>\n",
       "    </tr>\n",
       "  </tbody>\n",
       "</table>\n",
       "</div>"
      ],
      "text/plain": [
       "       y          time        x1        x2        x3\n",
       "255  0.0   5/1/99 8:30  0.997107 -3.865720 -1.133779\n",
       "256  0.0   5/1/99 8:32  1.016235 -4.058394 -1.097158\n",
       "257  1.0   5/1/99 8:34  1.005602 -3.876199 -1.074373\n",
       "258  1.0   5/1/99 8:36  0.933933 -3.868467 -1.249954\n",
       "260  0.0  5/1/99 10:50  0.020062 -3.987897 -1.248529"
      ]
     },
     "metadata": {},
     "output_type": "display_data"
    }
   ],
   "source": [
    "'''\n",
    "Shift the data by 2 units, equal to 4 minutes.\n",
    "\n",
    "Test: Testing whether the shift happened correctly.\n",
    "'''\n",
    "print('Before shifting')  # Positive labeled rows before shifting.\n",
    "one_indexes = df.index[df['y'] == 1]\n",
    "display(df.iloc[(one_indexes[0]-3):(one_indexes[0]+2), 0:5].head(n=5))\n",
    "\n",
    "# Shift the response column y by 2 rows to do a 4-min ahead prediction.\n",
    "df = curve_shift(df, shift_by = -2)\n",
    "\n",
    "print('After shifting')  # Validating if the shift happened correctly.\n",
    "display(df.iloc[(one_indexes[0]-4):(one_indexes[0]+1), 0:5].head(n=5))  "
   ]
  },
  {
   "cell_type": "code",
   "execution_count": 5,
   "id": "7f290cdc",
   "metadata": {},
   "outputs": [],
   "source": [
    "# Remove time column, and the categorical columns\n",
    "df = df.drop(['time', 'x28', 'x61'], axis=1)"
   ]
  },
  {
   "cell_type": "code",
   "execution_count": 6,
   "id": "91c07336",
   "metadata": {},
   "outputs": [
    {
     "data": {
      "text/html": [
       "<div>\n",
       "<style scoped>\n",
       "    .dataframe tbody tr th:only-of-type {\n",
       "        vertical-align: middle;\n",
       "    }\n",
       "\n",
       "    .dataframe tbody tr th {\n",
       "        vertical-align: top;\n",
       "    }\n",
       "\n",
       "    .dataframe thead th {\n",
       "        text-align: right;\n",
       "    }\n",
       "</style>\n",
       "<table border=\"1\" class=\"dataframe\">\n",
       "  <thead>\n",
       "    <tr style=\"text-align: right;\">\n",
       "      <th></th>\n",
       "      <th>y</th>\n",
       "      <th>x1</th>\n",
       "      <th>x2</th>\n",
       "      <th>x3</th>\n",
       "      <th>x4</th>\n",
       "      <th>x5</th>\n",
       "      <th>x6</th>\n",
       "      <th>x7</th>\n",
       "      <th>x8</th>\n",
       "      <th>x9</th>\n",
       "      <th>...</th>\n",
       "      <th>x51</th>\n",
       "      <th>x52</th>\n",
       "      <th>x53</th>\n",
       "      <th>x54</th>\n",
       "      <th>x55</th>\n",
       "      <th>x56</th>\n",
       "      <th>x57</th>\n",
       "      <th>x58</th>\n",
       "      <th>x59</th>\n",
       "      <th>x60</th>\n",
       "    </tr>\n",
       "  </thead>\n",
       "  <tbody>\n",
       "    <tr>\n",
       "      <th>count</th>\n",
       "      <td>18274.00</td>\n",
       "      <td>18274.00</td>\n",
       "      <td>18274.00</td>\n",
       "      <td>18274.00</td>\n",
       "      <td>18274.00</td>\n",
       "      <td>18274.00</td>\n",
       "      <td>18274.00</td>\n",
       "      <td>18274.00</td>\n",
       "      <td>18274.00</td>\n",
       "      <td>18274.00</td>\n",
       "      <td>...</td>\n",
       "      <td>18274.00</td>\n",
       "      <td>18274.00</td>\n",
       "      <td>18274.00</td>\n",
       "      <td>18274.00</td>\n",
       "      <td>18274.00</td>\n",
       "      <td>18274.00</td>\n",
       "      <td>18274.00</td>\n",
       "      <td>18274.00</td>\n",
       "      <td>18274.00</td>\n",
       "      <td>18274.00</td>\n",
       "    </tr>\n",
       "    <tr>\n",
       "      <th>mean</th>\n",
       "      <td>0.01</td>\n",
       "      <td>0.01</td>\n",
       "      <td>0.19</td>\n",
       "      <td>0.63</td>\n",
       "      <td>-10.14</td>\n",
       "      <td>0.01</td>\n",
       "      <td>2.49</td>\n",
       "      <td>0.00</td>\n",
       "      <td>-0.00</td>\n",
       "      <td>-0.00</td>\n",
       "      <td>...</td>\n",
       "      <td>-3.58</td>\n",
       "      <td>0.40</td>\n",
       "      <td>0.46</td>\n",
       "      <td>0.18</td>\n",
       "      <td>2.45</td>\n",
       "      <td>9.40</td>\n",
       "      <td>0.24</td>\n",
       "      <td>-0.00</td>\n",
       "      <td>-0.07</td>\n",
       "      <td>0.00</td>\n",
       "    </tr>\n",
       "    <tr>\n",
       "      <th>std</th>\n",
       "      <td>0.12</td>\n",
       "      <td>0.74</td>\n",
       "      <td>4.91</td>\n",
       "      <td>5.90</td>\n",
       "      <td>130.98</td>\n",
       "      <td>0.63</td>\n",
       "      <td>36.99</td>\n",
       "      <td>0.11</td>\n",
       "      <td>0.08</td>\n",
       "      <td>0.16</td>\n",
       "      <td>...</td>\n",
       "      <td>349.43</td>\n",
       "      <td>6.05</td>\n",
       "      <td>4.61</td>\n",
       "      <td>3.02</td>\n",
       "      <td>67.89</td>\n",
       "      <td>81.29</td>\n",
       "      <td>2.32</td>\n",
       "      <td>0.05</td>\n",
       "      <td>10.43</td>\n",
       "      <td>0.00</td>\n",
       "    </tr>\n",
       "    <tr>\n",
       "      <th>min</th>\n",
       "      <td>0.00</td>\n",
       "      <td>-3.79</td>\n",
       "      <td>-17.32</td>\n",
       "      <td>-18.20</td>\n",
       "      <td>-322.78</td>\n",
       "      <td>-1.62</td>\n",
       "      <td>-279.41</td>\n",
       "      <td>-0.43</td>\n",
       "      <td>-0.45</td>\n",
       "      <td>-0.12</td>\n",
       "      <td>...</td>\n",
       "      <td>-3652.99</td>\n",
       "      <td>-16.56</td>\n",
       "      <td>-14.21</td>\n",
       "      <td>-8.21</td>\n",
       "      <td>-230.57</td>\n",
       "      <td>-269.04</td>\n",
       "      <td>-4.89</td>\n",
       "      <td>-0.15</td>\n",
       "      <td>-100.81</td>\n",
       "      <td>-0.01</td>\n",
       "    </tr>\n",
       "    <tr>\n",
       "      <th>25%</th>\n",
       "      <td>0.00</td>\n",
       "      <td>-0.41</td>\n",
       "      <td>-2.12</td>\n",
       "      <td>-3.48</td>\n",
       "      <td>-111.43</td>\n",
       "      <td>-0.45</td>\n",
       "      <td>-23.69</td>\n",
       "      <td>-0.06</td>\n",
       "      <td>-0.05</td>\n",
       "      <td>-0.06</td>\n",
       "      <td>...</td>\n",
       "      <td>29.98</td>\n",
       "      <td>-3.67</td>\n",
       "      <td>-1.93</td>\n",
       "      <td>0.49</td>\n",
       "      <td>-39.88</td>\n",
       "      <td>-45.40</td>\n",
       "      <td>-1.60</td>\n",
       "      <td>0.00</td>\n",
       "      <td>0.30</td>\n",
       "      <td>-0.00</td>\n",
       "    </tr>\n",
       "    <tr>\n",
       "      <th>50%</th>\n",
       "      <td>0.00</td>\n",
       "      <td>0.13</td>\n",
       "      <td>-0.06</td>\n",
       "      <td>-0.16</td>\n",
       "      <td>-14.94</td>\n",
       "      <td>-0.12</td>\n",
       "      <td>10.59</td>\n",
       "      <td>-0.01</td>\n",
       "      <td>-0.00</td>\n",
       "      <td>-0.03</td>\n",
       "      <td>...</td>\n",
       "      <td>29.98</td>\n",
       "      <td>0.29</td>\n",
       "      <td>0.14</td>\n",
       "      <td>0.71</td>\n",
       "      <td>17.63</td>\n",
       "      <td>1.68</td>\n",
       "      <td>0.09</td>\n",
       "      <td>0.01</td>\n",
       "      <td>0.73</td>\n",
       "      <td>0.00</td>\n",
       "    </tr>\n",
       "    <tr>\n",
       "      <th>75%</th>\n",
       "      <td>0.00</td>\n",
       "      <td>0.42</td>\n",
       "      <td>2.34</td>\n",
       "      <td>3.44</td>\n",
       "      <td>92.05</td>\n",
       "      <td>0.33</td>\n",
       "      <td>32.21</td>\n",
       "      <td>0.06</td>\n",
       "      <td>0.04</td>\n",
       "      <td>0.00</td>\n",
       "      <td>...</td>\n",
       "      <td>29.98</td>\n",
       "      <td>5.13</td>\n",
       "      <td>3.24</td>\n",
       "      <td>2.68</td>\n",
       "      <td>44.11</td>\n",
       "      <td>63.32</td>\n",
       "      <td>2.22</td>\n",
       "      <td>0.02</td>\n",
       "      <td>1.27</td>\n",
       "      <td>0.00</td>\n",
       "    </tr>\n",
       "    <tr>\n",
       "      <th>max</th>\n",
       "      <td>1.00</td>\n",
       "      <td>3.05</td>\n",
       "      <td>16.74</td>\n",
       "      <td>15.90</td>\n",
       "      <td>334.69</td>\n",
       "      <td>2.37</td>\n",
       "      <td>96.06</td>\n",
       "      <td>1.71</td>\n",
       "      <td>0.55</td>\n",
       "      <td>4.06</td>\n",
       "      <td>...</td>\n",
       "      <td>37.68</td>\n",
       "      <td>14.18</td>\n",
       "      <td>11.15</td>\n",
       "      <td>6.64</td>\n",
       "      <td>287.25</td>\n",
       "      <td>252.15</td>\n",
       "      <td>6.92</td>\n",
       "      <td>0.07</td>\n",
       "      <td>6.99</td>\n",
       "      <td>0.02</td>\n",
       "    </tr>\n",
       "  </tbody>\n",
       "</table>\n",
       "<p>8 rows × 60 columns</p>\n",
       "</div>"
      ],
      "text/plain": [
       "              y        x1        x2        x3        x4        x5        x6  \\\n",
       "count  18274.00  18274.00  18274.00  18274.00  18274.00  18274.00  18274.00   \n",
       "mean       0.01      0.01      0.19      0.63    -10.14      0.01      2.49   \n",
       "std        0.12      0.74      4.91      5.90    130.98      0.63     36.99   \n",
       "min        0.00     -3.79    -17.32    -18.20   -322.78     -1.62   -279.41   \n",
       "25%        0.00     -0.41     -2.12     -3.48   -111.43     -0.45    -23.69   \n",
       "50%        0.00      0.13     -0.06     -0.16    -14.94     -0.12     10.59   \n",
       "75%        0.00      0.42      2.34      3.44     92.05      0.33     32.21   \n",
       "max        1.00      3.05     16.74     15.90    334.69      2.37     96.06   \n",
       "\n",
       "             x7        x8        x9  ...       x51       x52       x53  \\\n",
       "count  18274.00  18274.00  18274.00  ...  18274.00  18274.00  18274.00   \n",
       "mean       0.00     -0.00     -0.00  ...     -3.58      0.40      0.46   \n",
       "std        0.11      0.08      0.16  ...    349.43      6.05      4.61   \n",
       "min       -0.43     -0.45     -0.12  ...  -3652.99    -16.56    -14.21   \n",
       "25%       -0.06     -0.05     -0.06  ...     29.98     -3.67     -1.93   \n",
       "50%       -0.01     -0.00     -0.03  ...     29.98      0.29      0.14   \n",
       "75%        0.06      0.04      0.00  ...     29.98      5.13      3.24   \n",
       "max        1.71      0.55      4.06  ...     37.68     14.18     11.15   \n",
       "\n",
       "            x54       x55       x56       x57       x58       x59       x60  \n",
       "count  18274.00  18274.00  18274.00  18274.00  18274.00  18274.00  18274.00  \n",
       "mean       0.18      2.45      9.40      0.24     -0.00     -0.07      0.00  \n",
       "std        3.02     67.89     81.29      2.32      0.05     10.43      0.00  \n",
       "min       -8.21   -230.57   -269.04     -4.89     -0.15   -100.81     -0.01  \n",
       "25%        0.49    -39.88    -45.40     -1.60      0.00      0.30     -0.00  \n",
       "50%        0.71     17.63      1.68      0.09      0.01      0.73      0.00  \n",
       "75%        2.68     44.11     63.32      2.22      0.02      1.27      0.00  \n",
       "max        6.64    287.25    252.15      6.92      0.07      6.99      0.02  \n",
       "\n",
       "[8 rows x 60 columns]"
      ]
     },
     "execution_count": 6,
     "metadata": {},
     "output_type": "execute_result"
    }
   ],
   "source": [
    "# view summary statistics in numerical variables\n",
    "\n",
    "round(df.describe(),2)"
   ]
  },
  {
   "cell_type": "code",
   "execution_count": 7,
   "id": "c61e15cf",
   "metadata": {},
   "outputs": [
    {
     "data": {
      "text/plain": [
       "Text(0, 0.5, 'x8')"
      ]
     },
     "execution_count": 7,
     "metadata": {},
     "output_type": "execute_result"
    },
    {
     "data": {
      "image/png": "[encoded data removed]",
      "text/plain": [
       "<Figure size 2400x2000 with 8 Axes>"
      ]
     },
     "metadata": {},
     "output_type": "display_data"
    }
   ],
   "source": [
    "# draw boxplots to visualize outliers\n",
    "\n",
    "plt.figure(figsize=(24,20))\n",
    "\n",
    "plt.subplot(4, 2, 1)\n",
    "fig = df.boxplot(column='x1')\n",
    "fig.set_title('')\n",
    "fig.set_ylabel('x1')\n",
    "\n",
    "plt.subplot(4, 2, 2)\n",
    "fig = df.boxplot(column='x2')\n",
    "fig.set_title('')\n",
    "fig.set_ylabel('x2')\n",
    "\n",
    "plt.subplot(4, 2, 3)\n",
    "fig = df.boxplot(column='x3')\n",
    "fig.set_title('')\n",
    "fig.set_ylabel('x3')\n",
    "\n",
    "plt.subplot(4, 2, 4)\n",
    "fig = df.boxplot(column='x4')\n",
    "fig.set_title('')\n",
    "fig.set_ylabel('x4')\n",
    "\n",
    "plt.subplot(4, 2, 5)\n",
    "fig = df.boxplot(column='x5')\n",
    "fig.set_title('')\n",
    "fig.set_ylabel('x5')\n",
    "\n",
    "plt.subplot(4, 2, 6)\n",
    "fig = df.boxplot(column='x6')\n",
    "fig.set_title('')\n",
    "fig.set_ylabel('x6')\n",
    "\n",
    "plt.subplot(4, 2, 7)\n",
    "fig = df.boxplot(column='x7')\n",
    "fig.set_title('')\n",
    "fig.set_ylabel('x7')\n",
    "\n",
    "plt.subplot(4, 2, 8)\n",
    "fig = df.boxplot(column='x8')\n",
    "fig.set_title('')\n",
    "fig.set_ylabel('x8')"
   ]
  },
  {
   "cell_type": "code",
   "execution_count": 8,
   "id": "d3a60ecd",
   "metadata": {},
   "outputs": [
    {
     "data": {
      "text/plain": [
       "Text(0, 0.5, 'x6')"
      ]
     },
     "execution_count": 8,
     "metadata": {},
     "output_type": "execute_result"
    },
    {
     "data": {
      "image/png": "[encoded data removed]",
      "text/plain": [
       "<Figure size 2400x2000 with 6 Axes>"
      ]
     },
     "metadata": {},
     "output_type": "display_data"
    }
   ],
   "source": [
    "# plot histogram to check distribution\n",
    "\n",
    "plt.figure(figsize=(24,20))\n",
    "\n",
    "plt.subplot(4, 2, 1)\n",
    "fig = df['x1'].hist(bins=20)\n",
    "fig.set_xlabel('x1')\n",
    "fig.set_ylabel('x1')\n",
    "\n",
    "plt.subplot(4, 2, 2)\n",
    "fig = df['x2'].hist(bins=20)\n",
    "fig.set_xlabel('x2')\n",
    "fig.set_ylabel('x2')\n",
    "\n",
    "plt.subplot(4, 2, 3)\n",
    "fig = df['x2'].hist(bins=20)\n",
    "fig.set_xlabel('x3')\n",
    "fig.set_ylabel('x3')\n",
    "\n",
    "plt.subplot(4, 2, 4)\n",
    "fig = df['x2'].hist(bins=20)\n",
    "fig.set_xlabel('x4')\n",
    "fig.set_ylabel('x4')\n",
    "\n",
    "plt.subplot(4, 2, 5)\n",
    "fig = df['x2'].hist(bins=20)\n",
    "fig.set_xlabel('x5')\n",
    "fig.set_ylabel('x5')\n",
    "\n",
    "plt.subplot(4, 2, 6)\n",
    "fig = df['x2'].hist(bins=20)\n",
    "fig.set_xlabel('x6')\n",
    "fig.set_ylabel('x6')\n"
   ]
  },
  {
   "cell_type": "code",
   "execution_count": 9,
   "id": "8c7f55d1",
   "metadata": {},
   "outputs": [],
   "source": [
    "X = df.drop(['y'], axis=1)\n",
    "\n",
    "y = df['y']"
   ]
  },
  {
   "cell_type": "code",
   "execution_count": 10,
   "id": "bae23075",
   "metadata": {},
   "outputs": [],
   "source": [
    "# split X and y into training and testing sets\n",
    "\n",
    "X_train, X_test, y_train, y_test = train_test_split(X, y, test_size = 0.2, random_state = 0)"
   ]
  },
  {
   "cell_type": "code",
   "execution_count": 11,
   "id": "d2843908",
   "metadata": {},
   "outputs": [
    {
     "data": {
      "text/plain": [
       "((14619, 59), (3655, 59))"
      ]
     },
     "execution_count": 11,
     "metadata": {},
     "output_type": "execute_result"
    }
   ],
   "source": [
    "# check the shape of X_train and X_test\n",
    "\n",
    "X_train.shape, X_test.shape"
   ]
  },
  {
   "cell_type": "markdown",
   "id": "c983b2bd",
   "metadata": {},
   "source": [
    "# Feature scaling"
   ]
  },
  {
   "cell_type": "code",
   "execution_count": 12,
   "id": "277d0855",
   "metadata": {},
   "outputs": [],
   "source": [
    "cols = X_train.columns"
   ]
  },
  {
   "cell_type": "code",
   "execution_count": 13,
   "id": "e08685ea",
   "metadata": {},
   "outputs": [],
   "source": [
    "scaler = StandardScaler()\n",
    "\n",
    "X_train = scaler.fit_transform(X_train)\n",
    "\n",
    "X_test = scaler.transform(X_test)"
   ]
  },
  {
   "cell_type": "code",
   "execution_count": 14,
   "id": "9c280575",
   "metadata": {},
   "outputs": [],
   "source": [
    "X_train = pd.DataFrame(X_train, columns=[cols])"
   ]
  },
  {
   "cell_type": "code",
   "execution_count": 15,
   "id": "0f29bd90",
   "metadata": {},
   "outputs": [],
   "source": [
    "X_test = pd.DataFrame(X_test, columns=[cols])"
   ]
  },
  {
   "cell_type": "code",
   "execution_count": 16,
   "id": "b241bbd9",
   "metadata": {},
   "outputs": [
    {
     "data": {
      "text/html": [
       "<div>\n",
       "<style scoped>\n",
       "    .dataframe tbody tr th:only-of-type {\n",
       "        vertical-align: middle;\n",
       "    }\n",
       "\n",
       "    .dataframe tbody tr th {\n",
       "        vertical-align: top;\n",
       "    }\n",
       "\n",
       "    .dataframe thead tr th {\n",
       "        text-align: left;\n",
       "    }\n",
       "</style>\n",
       "<table border=\"1\" class=\"dataframe\">\n",
       "  <thead>\n",
       "    <tr>\n",
       "      <th></th>\n",
       "      <th>x1</th>\n",
       "      <th>x2</th>\n",
       "      <th>x3</th>\n",
       "      <th>x4</th>\n",
       "      <th>x5</th>\n",
       "      <th>x6</th>\n",
       "      <th>x7</th>\n",
       "      <th>x8</th>\n",
       "      <th>x9</th>\n",
       "      <th>x10</th>\n",
       "      <th>...</th>\n",
       "      <th>x51</th>\n",
       "      <th>x52</th>\n",
       "      <th>x53</th>\n",
       "      <th>x54</th>\n",
       "      <th>x55</th>\n",
       "      <th>x56</th>\n",
       "      <th>x57</th>\n",
       "      <th>x58</th>\n",
       "      <th>x59</th>\n",
       "      <th>x60</th>\n",
       "    </tr>\n",
       "  </thead>\n",
       "  <tbody>\n",
       "    <tr>\n",
       "      <th>count</th>\n",
       "      <td>1.461900e+04</td>\n",
       "      <td>1.461900e+04</td>\n",
       "      <td>1.461900e+04</td>\n",
       "      <td>1.461900e+04</td>\n",
       "      <td>1.461900e+04</td>\n",
       "      <td>1.461900e+04</td>\n",
       "      <td>1.461900e+04</td>\n",
       "      <td>1.461900e+04</td>\n",
       "      <td>1.461900e+04</td>\n",
       "      <td>1.461900e+04</td>\n",
       "      <td>...</td>\n",
       "      <td>1.461900e+04</td>\n",
       "      <td>1.461900e+04</td>\n",
       "      <td>1.461900e+04</td>\n",
       "      <td>1.461900e+04</td>\n",
       "      <td>1.461900e+04</td>\n",
       "      <td>1.461900e+04</td>\n",
       "      <td>1.461900e+04</td>\n",
       "      <td>1.461900e+04</td>\n",
       "      <td>1.461900e+04</td>\n",
       "      <td>1.461900e+04</td>\n",
       "    </tr>\n",
       "    <tr>\n",
       "      <th>mean</th>\n",
       "      <td>1.088180e-17</td>\n",
       "      <td>4.002430e-17</td>\n",
       "      <td>2.257051e-17</td>\n",
       "      <td>1.054480e-17</td>\n",
       "      <td>6.432443e-18</td>\n",
       "      <td>-8.118397e-18</td>\n",
       "      <td>4.211086e-17</td>\n",
       "      <td>2.248773e-16</td>\n",
       "      <td>1.301374e-16</td>\n",
       "      <td>-2.182094e-16</td>\n",
       "      <td>...</td>\n",
       "      <td>2.698911e-16</td>\n",
       "      <td>1.637349e-17</td>\n",
       "      <td>-3.659012e-16</td>\n",
       "      <td>2.055040e-17</td>\n",
       "      <td>1.778605e-17</td>\n",
       "      <td>-1.494575e-17</td>\n",
       "      <td>2.402104e-17</td>\n",
       "      <td>-8.288131e-17</td>\n",
       "      <td>7.122939e-17</td>\n",
       "      <td>-3.295203e-17</td>\n",
       "    </tr>\n",
       "    <tr>\n",
       "      <th>std</th>\n",
       "      <td>1.000034e+00</td>\n",
       "      <td>1.000034e+00</td>\n",
       "      <td>1.000034e+00</td>\n",
       "      <td>1.000034e+00</td>\n",
       "      <td>1.000034e+00</td>\n",
       "      <td>1.000034e+00</td>\n",
       "      <td>1.000034e+00</td>\n",
       "      <td>1.000034e+00</td>\n",
       "      <td>1.000034e+00</td>\n",
       "      <td>1.000034e+00</td>\n",
       "      <td>...</td>\n",
       "      <td>1.000034e+00</td>\n",
       "      <td>1.000034e+00</td>\n",
       "      <td>1.000034e+00</td>\n",
       "      <td>1.000034e+00</td>\n",
       "      <td>1.000034e+00</td>\n",
       "      <td>1.000034e+00</td>\n",
       "      <td>1.000034e+00</td>\n",
       "      <td>1.000034e+00</td>\n",
       "      <td>1.000034e+00</td>\n",
       "      <td>1.000034e+00</td>\n",
       "    </tr>\n",
       "    <tr>\n",
       "      <th>min</th>\n",
       "      <td>-5.125384e+00</td>\n",
       "      <td>-3.567254e+00</td>\n",
       "      <td>-3.189176e+00</td>\n",
       "      <td>-2.395565e+00</td>\n",
       "      <td>-2.570421e+00</td>\n",
       "      <td>-7.614198e+00</td>\n",
       "      <td>-3.951148e+00</td>\n",
       "      <td>-5.922619e+00</td>\n",
       "      <td>-7.462128e-01</td>\n",
       "      <td>-8.818439e-01</td>\n",
       "      <td>...</td>\n",
       "      <td>-1.047612e+01</td>\n",
       "      <td>-2.809865e+00</td>\n",
       "      <td>-3.183917e+00</td>\n",
       "      <td>-1.837096e+00</td>\n",
       "      <td>-3.438819e+00</td>\n",
       "      <td>-3.446922e+00</td>\n",
       "      <td>-2.116882e+00</td>\n",
       "      <td>-3.034917e+00</td>\n",
       "      <td>-9.679382e+00</td>\n",
       "      <td>-2.849635e+00</td>\n",
       "    </tr>\n",
       "    <tr>\n",
       "      <th>25%</th>\n",
       "      <td>-5.554024e-01</td>\n",
       "      <td>-4.714467e-01</td>\n",
       "      <td>-6.972715e-01</td>\n",
       "      <td>-7.769985e-01</td>\n",
       "      <td>-7.144949e-01</td>\n",
       "      <td>-7.130750e-01</td>\n",
       "      <td>-5.405372e-01</td>\n",
       "      <td>-6.213737e-01</td>\n",
       "      <td>-3.618129e-01</td>\n",
       "      <td>-4.201017e-01</td>\n",
       "      <td>...</td>\n",
       "      <td>9.578457e-02</td>\n",
       "      <td>-6.745255e-01</td>\n",
       "      <td>-5.237619e-01</td>\n",
       "      <td>1.000009e-01</td>\n",
       "      <td>-6.213750e-01</td>\n",
       "      <td>-6.774386e-01</td>\n",
       "      <td>-7.900745e-01</td>\n",
       "      <td>4.856733e-02</td>\n",
       "      <td>3.488246e-02</td>\n",
       "      <td>-6.491602e-01</td>\n",
       "    </tr>\n",
       "    <tr>\n",
       "      <th>50%</th>\n",
       "      <td>1.588102e-01</td>\n",
       "      <td>-5.119891e-02</td>\n",
       "      <td>-1.344593e-01</td>\n",
       "      <td>-3.828396e-02</td>\n",
       "      <td>-1.987992e-01</td>\n",
       "      <td>2.197745e-01</td>\n",
       "      <td>-1.003659e-01</td>\n",
       "      <td>4.178211e-02</td>\n",
       "      <td>-1.705816e-01</td>\n",
       "      <td>-1.441820e-01</td>\n",
       "      <td>...</td>\n",
       "      <td>9.578457e-02</td>\n",
       "      <td>-1.687841e-02</td>\n",
       "      <td>-7.083909e-02</td>\n",
       "      <td>1.738554e-01</td>\n",
       "      <td>2.230317e-01</td>\n",
       "      <td>-9.516044e-02</td>\n",
       "      <td>-6.412583e-02</td>\n",
       "      <td>3.028169e-01</td>\n",
       "      <td>7.701739e-02</td>\n",
       "      <td>-1.221622e-01</td>\n",
       "    </tr>\n",
       "    <tr>\n",
       "      <th>75%</th>\n",
       "      <td>5.538925e-01</td>\n",
       "      <td>4.302703e-01</td>\n",
       "      <td>4.767771e-01</td>\n",
       "      <td>7.841977e-01</td>\n",
       "      <td>5.051676e-01</td>\n",
       "      <td>8.045534e-01</td>\n",
       "      <td>5.178168e-01</td>\n",
       "      <td>5.714986e-01</td>\n",
       "      <td>2.275346e-02</td>\n",
       "      <td>1.317470e-01</td>\n",
       "      <td>...</td>\n",
       "      <td>9.578457e-02</td>\n",
       "      <td>7.726337e-01</td>\n",
       "      <td>5.996528e-01</td>\n",
       "      <td>8.229735e-01</td>\n",
       "      <td>6.132136e-01</td>\n",
       "      <td>6.665336e-01</td>\n",
       "      <td>8.564547e-01</td>\n",
       "      <td>4.686952e-01</td>\n",
       "      <td>1.277283e-01</td>\n",
       "      <td>5.986484e-01</td>\n",
       "    </tr>\n",
       "    <tr>\n",
       "      <th>max</th>\n",
       "      <td>4.106976e+00</td>\n",
       "      <td>3.374047e+00</td>\n",
       "      <td>2.586934e+00</td>\n",
       "      <td>2.629739e+00</td>\n",
       "      <td>3.723251e+00</td>\n",
       "      <td>2.525914e+00</td>\n",
       "      <td>1.562544e+01</td>\n",
       "      <td>7.393166e+00</td>\n",
       "      <td>2.598052e+01</td>\n",
       "      <td>2.698055e+01</td>\n",
       "      <td>...</td>\n",
       "      <td>1.177435e-01</td>\n",
       "      <td>2.284785e+00</td>\n",
       "      <td>2.322079e+00</td>\n",
       "      <td>2.130941e+00</td>\n",
       "      <td>4.206490e+00</td>\n",
       "      <td>3.005709e+00</td>\n",
       "      <td>2.881752e+00</td>\n",
       "      <td>1.418302e+00</td>\n",
       "      <td>6.775393e-01</td>\n",
       "      <td>4.069762e+00</td>\n",
       "    </tr>\n",
       "  </tbody>\n",
       "</table>\n",
       "<p>8 rows × 59 columns</p>\n",
       "</div>"
      ],
      "text/plain": [
       "                 x1            x2            x3            x4            x5  \\\n",
       "count  1.461900e+04  1.461900e+04  1.461900e+04  1.461900e+04  1.461900e+04   \n",
       "mean   1.088180e-17  4.002430e-17  2.257051e-17  1.054480e-17  6.432443e-18   \n",
       "std    1.000034e+00  1.000034e+00  1.000034e+00  1.000034e+00  1.000034e+00   \n",
       "min   -5.125384e+00 -3.567254e+00 -3.189176e+00 -2.395565e+00 -2.570421e+00   \n",
       "25%   -5.554024e-01 -4.714467e-01 -6.972715e-01 -7.769985e-01 -7.144949e-01   \n",
       "50%    1.588102e-01 -5.119891e-02 -1.344593e-01 -3.828396e-02 -1.987992e-01   \n",
       "75%    5.538925e-01  4.302703e-01  4.767771e-01  7.841977e-01  5.051676e-01   \n",
       "max    4.106976e+00  3.374047e+00  2.586934e+00  2.629739e+00  3.723251e+00   \n",
       "\n",
       "                 x6            x7            x8            x9           x10  \\\n",
       "count  1.461900e+04  1.461900e+04  1.461900e+04  1.461900e+04  1.461900e+04   \n",
       "mean  -8.118397e-18  4.211086e-17  2.248773e-16  1.301374e-16 -2.182094e-16   \n",
       "std    1.000034e+00  1.000034e+00  1.000034e+00  1.000034e+00  1.000034e+00   \n",
       "min   -7.614198e+00 -3.951148e+00 -5.922619e+00 -7.462128e-01 -8.818439e-01   \n",
       "25%   -7.130750e-01 -5.405372e-01 -6.213737e-01 -3.618129e-01 -4.201017e-01   \n",
       "50%    2.197745e-01 -1.003659e-01  4.178211e-02 -1.705816e-01 -1.441820e-01   \n",
       "75%    8.045534e-01  5.178168e-01  5.714986e-01  2.275346e-02  1.317470e-01   \n",
       "max    2.525914e+00  1.562544e+01  7.393166e+00  2.598052e+01  2.698055e+01   \n",
       "\n",
       "       ...           x51           x52           x53           x54  \\\n",
       "count  ...  1.461900e+04  1.461900e+04  1.461900e+04  1.461900e+04   \n",
       "mean   ...  2.698911e-16  1.637349e-17 -3.659012e-16  2.055040e-17   \n",
       "std    ...  1.000034e+00  1.000034e+00  1.000034e+00  1.000034e+00   \n",
       "min    ... -1.047612e+01 -2.809865e+00 -3.183917e+00 -1.837096e+00   \n",
       "25%    ...  9.578457e-02 -6.745255e-01 -5.237619e-01  1.000009e-01   \n",
       "50%    ...  9.578457e-02 -1.687841e-02 -7.083909e-02  1.738554e-01   \n",
       "75%    ...  9.578457e-02  7.726337e-01  5.996528e-01  8.229735e-01   \n",
       "max    ...  1.177435e-01  2.284785e+00  2.322079e+00  2.130941e+00   \n",
       "\n",
       "                x55           x56           x57           x58           x59  \\\n",
       "count  1.461900e+04  1.461900e+04  1.461900e+04  1.461900e+04  1.461900e+04   \n",
       "mean   1.778605e-17 -1.494575e-17  2.402104e-17 -8.288131e-17  7.122939e-17   \n",
       "std    1.000034e+00  1.000034e+00  1.000034e+00  1.000034e+00  1.000034e+00   \n",
       "min   -3.438819e+00 -3.446922e+00 -2.116882e+00 -3.034917e+00 -9.679382e+00   \n",
       "25%   -6.213750e-01 -6.774386e-01 -7.900745e-01  4.856733e-02  3.488246e-02   \n",
       "50%    2.230317e-01 -9.516044e-02 -6.412583e-02  3.028169e-01  7.701739e-02   \n",
       "75%    6.132136e-01  6.665336e-01  8.564547e-01  4.686952e-01  1.277283e-01   \n",
       "max    4.206490e+00  3.005709e+00  2.881752e+00  1.418302e+00  6.775393e-01   \n",
       "\n",
       "                x60  \n",
       "count  1.461900e+04  \n",
       "mean  -3.295203e-17  \n",
       "std    1.000034e+00  \n",
       "min   -2.849635e+00  \n",
       "25%   -6.491602e-01  \n",
       "50%   -1.221622e-01  \n",
       "75%    5.986484e-01  \n",
       "max    4.069762e+00  \n",
       "\n",
       "[8 rows x 59 columns]"
      ]
     },
     "execution_count": 16,
     "metadata": {},
     "output_type": "execute_result"
    }
   ],
   "source": [
    "X_train.describe()"
   ]
  },
  {
   "cell_type": "markdown",
   "id": "f2caffb5",
   "metadata": {},
   "source": [
    "# Run SVM with default hyperparameters \n"
   ]
  },
  {
   "cell_type": "code",
   "execution_count": 26,
   "id": "82347705",
   "metadata": {},
   "outputs": [
    {
     "name": "stderr",
     "output_type": "stream",
     "text": [
      "/Users/chathurangishyalika/opt/anaconda3/envs/tf/lib/python3.7/site-packages/sklearn/utils/validation.py:1692: FutureWarning: Feature names only support names that are all strings. Got feature names with dtypes: ['tuple']. An error will be raised in 1.2.\n",
      "  FutureWarning,\n",
      "/Users/chathurangishyalika/opt/anaconda3/envs/tf/lib/python3.7/site-packages/sklearn/utils/validation.py:1692: FutureWarning: Feature names only support names that are all strings. Got feature names with dtypes: ['tuple']. An error will be raised in 1.2.\n",
      "  FutureWarning,\n"
     ]
    },
    {
     "name": "stdout",
     "output_type": "stream",
     "text": [
      "Model accuracy score with default hyperparameters: 0.9871\n"
     ]
    }
   ],
   "source": [
    "# instantiate classifier with default hyperparameters\n",
    "svc=SVC() \n",
    "svc.fit(X_train,y_train)\n",
    "y_pred=svc.predict(X_test)\n",
    "print('Model accuracy score with default hyperparameters: {0:0.4f}'. format(accuracy_score(y_test, y_pred)))"
   ]
  },
  {
   "cell_type": "code",
   "execution_count": 28,
   "id": "ac73b07b",
   "metadata": {},
   "outputs": [
    {
     "name": "stdout",
     "output_type": "stream",
     "text": [
      "Confusion matrix\n",
      "\n",
      " [[3608    0]\n",
      " [  47    0]]\n"
     ]
    }
   ],
   "source": [
    "cm = confusion_matrix(y_test, y_pred)\n",
    "print('Confusion matrix\\n\\n', cm)"
   ]
  },
  {
   "cell_type": "code",
   "execution_count": 30,
   "id": "c7baba87",
   "metadata": {},
   "outputs": [
    {
     "name": "stdout",
     "output_type": "stream",
     "text": [
      "              precision    recall  f1-score   support\n",
      "\n",
      "      Normal       0.99      1.00      0.99      3608\n",
      "       Break       0.00      0.00      0.00        47\n",
      "\n",
      "    accuracy                           0.99      3655\n",
      "   macro avg       0.49      0.50      0.50      3655\n",
      "weighted avg       0.97      0.99      0.98      3655\n",
      "\n"
     ]
    },
    {
     "name": "stderr",
     "output_type": "stream",
     "text": [
      "/Users/chathurangishyalika/opt/anaconda3/envs/tf/lib/python3.7/site-packages/sklearn/metrics/_classification.py:1318: UndefinedMetricWarning: Precision and F-score are ill-defined and being set to 0.0 in labels with no predicted samples. Use `zero_division` parameter to control this behavior.\n",
      "  _warn_prf(average, modifier, msg_start, len(result))\n",
      "/Users/chathurangishyalika/opt/anaconda3/envs/tf/lib/python3.7/site-packages/sklearn/metrics/_classification.py:1318: UndefinedMetricWarning: Precision and F-score are ill-defined and being set to 0.0 in labels with no predicted samples. Use `zero_division` parameter to control this behavior.\n",
      "  _warn_prf(average, modifier, msg_start, len(result))\n",
      "/Users/chathurangishyalika/opt/anaconda3/envs/tf/lib/python3.7/site-packages/sklearn/metrics/_classification.py:1318: UndefinedMetricWarning: Precision and F-score are ill-defined and being set to 0.0 in labels with no predicted samples. Use `zero_division` parameter to control this behavior.\n",
      "  _warn_prf(average, modifier, msg_start, len(result))\n"
     ]
    }
   ],
   "source": [
    "target_names = ['Normal', 'Break']\n",
    "print(classification_report(y_test, y_pred, target_names=target_names))"
   ]
  },
  {
   "cell_type": "markdown",
   "id": "b197931b",
   "metadata": {},
   "source": [
    "# Run SVM with rbf kernel and C=100.0"
   ]
  },
  {
   "cell_type": "code",
   "execution_count": 31,
   "id": "5a75ba10",
   "metadata": {},
   "outputs": [
    {
     "name": "stderr",
     "output_type": "stream",
     "text": [
      "/Users/chathurangishyalika/opt/anaconda3/envs/tf/lib/python3.7/site-packages/sklearn/utils/validation.py:1692: FutureWarning: Feature names only support names that are all strings. Got feature names with dtypes: ['tuple']. An error will be raised in 1.2.\n",
      "  FutureWarning,\n",
      "/Users/chathurangishyalika/opt/anaconda3/envs/tf/lib/python3.7/site-packages/sklearn/utils/validation.py:1692: FutureWarning: Feature names only support names that are all strings. Got feature names with dtypes: ['tuple']. An error will be raised in 1.2.\n",
      "  FutureWarning,\n"
     ]
    },
    {
     "name": "stdout",
     "output_type": "stream",
     "text": [
      "Model accuracy score with rbf kernel and C=100.0 : 0.9844\n"
     ]
    }
   ],
   "source": [
    "# instantiate classifier with rbf kernel and C=100\n",
    "svc=SVC(C=100.0) \n",
    "svc.fit(X_train,y_train)\n",
    "y_pred=svc.predict(X_test)\n",
    "print('Model accuracy score with rbf kernel and C=100.0 : {0:0.4f}'. format(accuracy_score(y_test, y_pred)))"
   ]
  },
  {
   "cell_type": "code",
   "execution_count": 32,
   "id": "b4ee39a4",
   "metadata": {},
   "outputs": [
    {
     "name": "stdout",
     "output_type": "stream",
     "text": [
      "Confusion matrix\n",
      "\n",
      " [[3587   21]\n",
      " [  36   11]]\n",
      "              precision    recall  f1-score   support\n",
      "\n",
      "      Normal       0.99      0.99      0.99      3608\n",
      "       Break       0.34      0.23      0.28        47\n",
      "\n",
      "    accuracy                           0.98      3655\n",
      "   macro avg       0.67      0.61      0.64      3655\n",
      "weighted avg       0.98      0.98      0.98      3655\n",
      "\n"
     ]
    }
   ],
   "source": [
    "cm = confusion_matrix(y_test, y_pred)\n",
    "print('Confusion matrix\\n\\n', cm)\n",
    "target_names = ['Normal', 'Break']\n",
    "print(classification_report(y_test, y_pred, target_names=target_names))"
   ]
  },
  {
   "cell_type": "markdown",
   "id": "c9d0f577",
   "metadata": {},
   "source": [
    "# Run SVM with rbf kernel and C=1000.0"
   ]
  },
  {
   "cell_type": "code",
   "execution_count": 33,
   "id": "1b8bae6b",
   "metadata": {},
   "outputs": [
    {
     "name": "stderr",
     "output_type": "stream",
     "text": [
      "/Users/chathurangishyalika/opt/anaconda3/envs/tf/lib/python3.7/site-packages/sklearn/utils/validation.py:1692: FutureWarning: Feature names only support names that are all strings. Got feature names with dtypes: ['tuple']. An error will be raised in 1.2.\n",
      "  FutureWarning,\n",
      "/Users/chathurangishyalika/opt/anaconda3/envs/tf/lib/python3.7/site-packages/sklearn/utils/validation.py:1692: FutureWarning: Feature names only support names that are all strings. Got feature names with dtypes: ['tuple']. An error will be raised in 1.2.\n",
      "  FutureWarning,\n"
     ]
    },
    {
     "name": "stdout",
     "output_type": "stream",
     "text": [
      "Model accuracy score with rbf kernel and C=1000.0 : 0.9830\n"
     ]
    }
   ],
   "source": [
    "# instantiate classifier with rbf kernel and C=1000\n",
    "svc=SVC(C=1000.0) \n",
    "svc.fit(X_train,y_train)\n",
    "y_pred=svc.predict(X_test)\n",
    "print('Model accuracy score with rbf kernel and C=1000.0 : {0:0.4f}'. format(accuracy_score(y_test, y_pred)))"
   ]
  },
  {
   "cell_type": "code",
   "execution_count": 34,
   "id": "115e3307",
   "metadata": {},
   "outputs": [
    {
     "name": "stdout",
     "output_type": "stream",
     "text": [
      "Confusion matrix\n",
      "\n",
      " [[3580   28]\n",
      " [  34   13]]\n",
      "              precision    recall  f1-score   support\n",
      "\n",
      "      Normal       0.99      0.99      0.99      3608\n",
      "       Break       0.32      0.28      0.30        47\n",
      "\n",
      "    accuracy                           0.98      3655\n",
      "   macro avg       0.65      0.63      0.64      3655\n",
      "weighted avg       0.98      0.98      0.98      3655\n",
      "\n"
     ]
    }
   ],
   "source": [
    "cm = confusion_matrix(y_test, y_pred)\n",
    "print('Confusion matrix\\n\\n', cm)\n",
    "target_names = ['Normal', 'Break']\n",
    "print(classification_report(y_test, y_pred, target_names=target_names))"
   ]
  },
  {
   "cell_type": "markdown",
   "id": "7a66b56b",
   "metadata": {},
   "source": [
    "# Run SVM with linear kernel"
   ]
  },
  {
   "cell_type": "code",
   "execution_count": 35,
   "id": "884a263d",
   "metadata": {},
   "outputs": [
    {
     "name": "stderr",
     "output_type": "stream",
     "text": [
      "/Users/chathurangishyalika/opt/anaconda3/envs/tf/lib/python3.7/site-packages/sklearn/utils/validation.py:1692: FutureWarning: Feature names only support names that are all strings. Got feature names with dtypes: ['tuple']. An error will be raised in 1.2.\n",
      "  FutureWarning,\n",
      "/Users/chathurangishyalika/opt/anaconda3/envs/tf/lib/python3.7/site-packages/sklearn/utils/validation.py:1692: FutureWarning: Feature names only support names that are all strings. Got feature names with dtypes: ['tuple']. An error will be raised in 1.2.\n",
      "  FutureWarning,\n"
     ]
    },
    {
     "name": "stdout",
     "output_type": "stream",
     "text": [
      "Model accuracy score with linear kernel and C=1.0 : 0.9871\n"
     ]
    }
   ],
   "source": [
    "# instantiate classifier with linear kernel and C=1.0\n",
    "linear_svc=SVC(kernel='linear', C=1.0) \n",
    "linear_svc.fit(X_train,y_train)\n",
    "y_pred_test=linear_svc.predict(X_test)\n",
    "print('Model accuracy score with linear kernel and C=1.0 : {0:0.4f}'. format(accuracy_score(y_test, y_pred_test)))"
   ]
  },
  {
   "cell_type": "code",
   "execution_count": 37,
   "id": "63314e1f",
   "metadata": {},
   "outputs": [
    {
     "name": "stdout",
     "output_type": "stream",
     "text": [
      "Confusion matrix\n",
      "\n",
      " [[3608    0]\n",
      " [  47    0]]\n",
      "              precision    recall  f1-score   support\n",
      "\n",
      "      Normal       0.99      1.00      0.99      3608\n",
      "       Break       0.00      0.00      0.00        47\n",
      "\n",
      "    accuracy                           0.99      3655\n",
      "   macro avg       0.49      0.50      0.50      3655\n",
      "weighted avg       0.97      0.99      0.98      3655\n",
      "\n"
     ]
    },
    {
     "name": "stderr",
     "output_type": "stream",
     "text": [
      "/Users/chathurangishyalika/opt/anaconda3/envs/tf/lib/python3.7/site-packages/sklearn/metrics/_classification.py:1318: UndefinedMetricWarning: Precision and F-score are ill-defined and being set to 0.0 in labels with no predicted samples. Use `zero_division` parameter to control this behavior.\n",
      "  _warn_prf(average, modifier, msg_start, len(result))\n",
      "/Users/chathurangishyalika/opt/anaconda3/envs/tf/lib/python3.7/site-packages/sklearn/metrics/_classification.py:1318: UndefinedMetricWarning: Precision and F-score are ill-defined and being set to 0.0 in labels with no predicted samples. Use `zero_division` parameter to control this behavior.\n",
      "  _warn_prf(average, modifier, msg_start, len(result))\n",
      "/Users/chathurangishyalika/opt/anaconda3/envs/tf/lib/python3.7/site-packages/sklearn/metrics/_classification.py:1318: UndefinedMetricWarning: Precision and F-score are ill-defined and being set to 0.0 in labels with no predicted samples. Use `zero_division` parameter to control this behavior.\n",
      "  _warn_prf(average, modifier, msg_start, len(result))\n"
     ]
    }
   ],
   "source": [
    "cm = confusion_matrix(y_test, y_pred_test)\n",
    "print('Confusion matrix\\n\\n', cm)\n",
    "target_names = ['Normal', 'Break']\n",
    "print(classification_report(y_test, y_pred_test, target_names=target_names))"
   ]
  },
  {
   "cell_type": "code",
   "execution_count": 17,
   "id": "b39aba3e",
   "metadata": {},
   "outputs": [
    {
     "name": "stderr",
     "output_type": "stream",
     "text": [
      "/Users/chathurangishyalika/opt/anaconda3/envs/tf/lib/python3.7/site-packages/sklearn/utils/validation.py:1692: FutureWarning: Feature names only support names that are all strings. Got feature names with dtypes: ['tuple']. An error will be raised in 1.2.\n",
      "  FutureWarning,\n"
     ]
    },
    {
     "name": "stdout",
     "output_type": "stream",
     "text": [
      "Model accuracy score with linear kernel and C=100.0 : 0.9871\n"
     ]
    },
    {
     "name": "stderr",
     "output_type": "stream",
     "text": [
      "/Users/chathurangishyalika/opt/anaconda3/envs/tf/lib/python3.7/site-packages/sklearn/utils/validation.py:1692: FutureWarning: Feature names only support names that are all strings. Got feature names with dtypes: ['tuple']. An error will be raised in 1.2.\n",
      "  FutureWarning,\n"
     ]
    }
   ],
   "source": [
    "# instantiate classifier with linear kernel and C=100.0\n",
    "linear_svc=SVC(kernel='linear', C=100.0) \n",
    "linear_svc.fit(X_train,y_train)\n",
    "y_pred_test=linear_svc.predict(X_test)\n",
    "print('Model accuracy score with linear kernel and C=100.0 : {0:0.4f}'. format(accuracy_score(y_test, y_pred_test)))"
   ]
  },
  {
   "cell_type": "code",
   "execution_count": 18,
   "id": "1c68ebdd",
   "metadata": {},
   "outputs": [
    {
     "name": "stdout",
     "output_type": "stream",
     "text": [
      "Confusion matrix\n",
      "\n",
      " [[3608    0]\n",
      " [  47    0]]\n",
      "              precision    recall  f1-score   support\n",
      "\n",
      "      Normal       0.99      1.00      0.99      3608\n",
      "       Break       0.00      0.00      0.00        47\n",
      "\n",
      "    accuracy                           0.99      3655\n",
      "   macro avg       0.49      0.50      0.50      3655\n",
      "weighted avg       0.97      0.99      0.98      3655\n",
      "\n"
     ]
    },
    {
     "name": "stderr",
     "output_type": "stream",
     "text": [
      "/Users/chathurangishyalika/opt/anaconda3/envs/tf/lib/python3.7/site-packages/sklearn/metrics/_classification.py:1318: UndefinedMetricWarning: Precision and F-score are ill-defined and being set to 0.0 in labels with no predicted samples. Use `zero_division` parameter to control this behavior.\n",
      "  _warn_prf(average, modifier, msg_start, len(result))\n",
      "/Users/chathurangishyalika/opt/anaconda3/envs/tf/lib/python3.7/site-packages/sklearn/metrics/_classification.py:1318: UndefinedMetricWarning: Precision and F-score are ill-defined and being set to 0.0 in labels with no predicted samples. Use `zero_division` parameter to control this behavior.\n",
      "  _warn_prf(average, modifier, msg_start, len(result))\n",
      "/Users/chathurangishyalika/opt/anaconda3/envs/tf/lib/python3.7/site-packages/sklearn/metrics/_classification.py:1318: UndefinedMetricWarning: Precision and F-score are ill-defined and being set to 0.0 in labels with no predicted samples. Use `zero_division` parameter to control this behavior.\n",
      "  _warn_prf(average, modifier, msg_start, len(result))\n"
     ]
    }
   ],
   "source": [
    "cm = confusion_matrix(y_test, y_pred_test)\n",
    "print('Confusion matrix\\n\\n', cm)\n",
    "target_names = ['Normal', 'Break']\n",
    "print(classification_report(y_test, y_pred_test, target_names=target_names))"
   ]
  },
  {
   "cell_type": "code",
   "execution_count": 19,
   "id": "8388a72b",
   "metadata": {},
   "outputs": [
    {
     "name": "stderr",
     "output_type": "stream",
     "text": [
      "/Users/chathurangishyalika/opt/anaconda3/envs/tf/lib/python3.7/site-packages/sklearn/utils/validation.py:1692: FutureWarning: Feature names only support names that are all strings. Got feature names with dtypes: ['tuple']. An error will be raised in 1.2.\n",
      "  FutureWarning,\n"
     ]
    },
    {
     "name": "stdout",
     "output_type": "stream",
     "text": [
      "Training-set accuracy score: 0.9863\n"
     ]
    }
   ],
   "source": [
    "#Compare the train-set and test-set accuracy\n",
    "y_pred_train = linear_svc.predict(X_train)\n",
    "\n",
    "y_pred_train\n",
    "\n",
    "print('Training-set accuracy score: {0:0.4f}'. format(accuracy_score(y_train, y_pred_train)))"
   ]
  },
  {
   "cell_type": "code",
   "execution_count": 20,
   "id": "17964967",
   "metadata": {},
   "outputs": [
    {
     "name": "stdout",
     "output_type": "stream",
     "text": [
      "Classification accuracy : 0.9871\n"
     ]
    }
   ],
   "source": [
    "# print classification accuracy\n",
    "TP = cm[0,0]\n",
    "TN = cm[1,1]\n",
    "FP = cm[0,1]\n",
    "FN = cm[1,0]\n",
    "classification_accuracy = (TP + TN) / float(TP + TN + FP + FN)\n",
    "\n",
    "print('Classification accuracy : {0:0.4f}'.format(classification_accuracy))"
   ]
  },
  {
   "cell_type": "markdown",
   "id": "9e71069b",
   "metadata": {},
   "source": [
    "# Stratified k-fold Cross Validation with shuffle split"
   ]
  },
  {
   "cell_type": "code",
   "execution_count": 21,
   "id": "e6717d51",
   "metadata": {},
   "outputs": [],
   "source": [
    "from sklearn.model_selection import KFold\n",
    "from sklearn.model_selection import cross_val_score\n",
    "\n",
    "kfold=KFold(n_splits=5, shuffle=True, random_state=0)\n",
    "linear_svc=SVC(kernel='linear')\n",
    "linear_scores = cross_val_score(linear_svc, X, y, cv=kfold)"
   ]
  },
  {
   "cell_type": "code",
   "execution_count": 22,
   "id": "c3397ee6",
   "metadata": {},
   "outputs": [
    {
     "name": "stdout",
     "output_type": "stream",
     "text": [
      "Stratified cross-validation scores with linear kernel:\n",
      "\n",
      "[0.9876881  0.98823529 0.98303694 0.98358413 0.98905309]\n"
     ]
    }
   ],
   "source": [
    "# print cross-validation scores with linear kernel\n",
    "print('Stratified cross-validation scores with linear kernel:\\n\\n{}'.format(linear_scores))"
   ]
  },
  {
   "cell_type": "code",
   "execution_count": 23,
   "id": "749c4ba2",
   "metadata": {},
   "outputs": [
    {
     "name": "stdout",
     "output_type": "stream",
     "text": [
      "Average stratified cross-validation score with linear kernel:0.9863\n"
     ]
    }
   ],
   "source": [
    "# print average cross-validation score with linear kernel\n",
    "print('Average stratified cross-validation score with linear kernel:{:.4f}'.format(linear_scores.mean()))"
   ]
  },
  {
   "cell_type": "markdown",
   "id": "9f15a656",
   "metadata": {},
   "source": [
    "# Hyperparameter Optimization using GridSearch CV"
   ]
  },
  {
   "cell_type": "code",
   "execution_count": null,
   "id": "a1640a03",
   "metadata": {},
   "outputs": [
    {
     "name": "stderr",
     "output_type": "stream",
     "text": [
      "/Users/chathurangishyalika/opt/anaconda3/envs/tf/lib/python3.7/site-packages/sklearn/utils/validation.py:1692: FutureWarning: Feature names only support names that are all strings. Got feature names with dtypes: ['tuple']. An error will be raised in 1.2.\n",
      "  FutureWarning,\n",
      "/Users/chathurangishyalika/opt/anaconda3/envs/tf/lib/python3.7/site-packages/sklearn/utils/validation.py:1692: FutureWarning: Feature names only support names that are all strings. Got feature names with dtypes: ['tuple']. An error will be raised in 1.2.\n",
      "  FutureWarning,\n",
      "/Users/chathurangishyalika/opt/anaconda3/envs/tf/lib/python3.7/site-packages/sklearn/utils/validation.py:1692: FutureWarning: Feature names only support names that are all strings. Got feature names with dtypes: ['tuple']. An error will be raised in 1.2.\n",
      "  FutureWarning,\n",
      "/Users/chathurangishyalika/opt/anaconda3/envs/tf/lib/python3.7/site-packages/sklearn/utils/validation.py:1692: FutureWarning: Feature names only support names that are all strings. Got feature names with dtypes: ['tuple']. An error will be raised in 1.2.\n",
      "  FutureWarning,\n",
      "/Users/chathurangishyalika/opt/anaconda3/envs/tf/lib/python3.7/site-packages/sklearn/utils/validation.py:1692: FutureWarning: Feature names only support names that are all strings. Got feature names with dtypes: ['tuple']. An error will be raised in 1.2.\n",
      "  FutureWarning,\n",
      "/Users/chathurangishyalika/opt/anaconda3/envs/tf/lib/python3.7/site-packages/sklearn/utils/validation.py:1692: FutureWarning: Feature names only support names that are all strings. Got feature names with dtypes: ['tuple']. An error will be raised in 1.2.\n",
      "  FutureWarning,\n",
      "/Users/chathurangishyalika/opt/anaconda3/envs/tf/lib/python3.7/site-packages/sklearn/utils/validation.py:1692: FutureWarning: Feature names only support names that are all strings. Got feature names with dtypes: ['tuple']. An error will be raised in 1.2.\n",
      "  FutureWarning,\n",
      "/Users/chathurangishyalika/opt/anaconda3/envs/tf/lib/python3.7/site-packages/sklearn/utils/validation.py:1692: FutureWarning: Feature names only support names that are all strings. Got feature names with dtypes: ['tuple']. An error will be raised in 1.2.\n",
      "  FutureWarning,\n",
      "/Users/chathurangishyalika/opt/anaconda3/envs/tf/lib/python3.7/site-packages/sklearn/utils/validation.py:1692: FutureWarning: Feature names only support names that are all strings. Got feature names with dtypes: ['tuple']. An error will be raised in 1.2.\n",
      "  FutureWarning,\n",
      "/Users/chathurangishyalika/opt/anaconda3/envs/tf/lib/python3.7/site-packages/sklearn/utils/validation.py:1692: FutureWarning: Feature names only support names that are all strings. Got feature names with dtypes: ['tuple']. An error will be raised in 1.2.\n",
      "  FutureWarning,\n",
      "/Users/chathurangishyalika/opt/anaconda3/envs/tf/lib/python3.7/site-packages/sklearn/utils/validation.py:1692: FutureWarning: Feature names only support names that are all strings. Got feature names with dtypes: ['tuple']. An error will be raised in 1.2.\n",
      "  FutureWarning,\n",
      "/Users/chathurangishyalika/opt/anaconda3/envs/tf/lib/python3.7/site-packages/sklearn/utils/validation.py:1692: FutureWarning: Feature names only support names that are all strings. Got feature names with dtypes: ['tuple']. An error will be raised in 1.2.\n",
      "  FutureWarning,\n",
      "/Users/chathurangishyalika/opt/anaconda3/envs/tf/lib/python3.7/site-packages/sklearn/utils/validation.py:1692: FutureWarning: Feature names only support names that are all strings. Got feature names with dtypes: ['tuple']. An error will be raised in 1.2.\n",
      "  FutureWarning,\n",
      "/Users/chathurangishyalika/opt/anaconda3/envs/tf/lib/python3.7/site-packages/sklearn/utils/validation.py:1692: FutureWarning: Feature names only support names that are all strings. Got feature names with dtypes: ['tuple']. An error will be raised in 1.2.\n",
      "  FutureWarning,\n",
      "/Users/chathurangishyalika/opt/anaconda3/envs/tf/lib/python3.7/site-packages/sklearn/utils/validation.py:1692: FutureWarning: Feature names only support names that are all strings. Got feature names with dtypes: ['tuple']. An error will be raised in 1.2.\n",
      "  FutureWarning,\n",
      "/Users/chathurangishyalika/opt/anaconda3/envs/tf/lib/python3.7/site-packages/sklearn/utils/validation.py:1692: FutureWarning: Feature names only support names that are all strings. Got feature names with dtypes: ['tuple']. An error will be raised in 1.2.\n",
      "  FutureWarning,\n",
      "/Users/chathurangishyalika/opt/anaconda3/envs/tf/lib/python3.7/site-packages/sklearn/utils/validation.py:1692: FutureWarning: Feature names only support names that are all strings. Got feature names with dtypes: ['tuple']. An error will be raised in 1.2.\n",
      "  FutureWarning,\n",
      "/Users/chathurangishyalika/opt/anaconda3/envs/tf/lib/python3.7/site-packages/sklearn/utils/validation.py:1692: FutureWarning: Feature names only support names that are all strings. Got feature names with dtypes: ['tuple']. An error will be raised in 1.2.\n",
      "  FutureWarning,\n",
      "/Users/chathurangishyalika/opt/anaconda3/envs/tf/lib/python3.7/site-packages/sklearn/utils/validation.py:1692: FutureWarning: Feature names only support names that are all strings. Got feature names with dtypes: ['tuple']. An error will be raised in 1.2.\n",
      "  FutureWarning,\n",
      "/Users/chathurangishyalika/opt/anaconda3/envs/tf/lib/python3.7/site-packages/sklearn/utils/validation.py:1692: FutureWarning: Feature names only support names that are all strings. Got feature names with dtypes: ['tuple']. An error will be raised in 1.2.\n",
      "  FutureWarning,\n",
      "/Users/chathurangishyalika/opt/anaconda3/envs/tf/lib/python3.7/site-packages/sklearn/utils/validation.py:1692: FutureWarning: Feature names only support names that are all strings. Got feature names with dtypes: ['tuple']. An error will be raised in 1.2.\n",
      "  FutureWarning,\n",
      "/Users/chathurangishyalika/opt/anaconda3/envs/tf/lib/python3.7/site-packages/sklearn/utils/validation.py:1692: FutureWarning: Feature names only support names that are all strings. Got feature names with dtypes: ['tuple']. An error will be raised in 1.2.\n",
      "  FutureWarning,\n",
      "/Users/chathurangishyalika/opt/anaconda3/envs/tf/lib/python3.7/site-packages/sklearn/utils/validation.py:1692: FutureWarning: Feature names only support names that are all strings. Got feature names with dtypes: ['tuple']. An error will be raised in 1.2.\n",
      "  FutureWarning,\n",
      "/Users/chathurangishyalika/opt/anaconda3/envs/tf/lib/python3.7/site-packages/sklearn/utils/validation.py:1692: FutureWarning: Feature names only support names that are all strings. Got feature names with dtypes: ['tuple']. An error will be raised in 1.2.\n",
      "  FutureWarning,\n",
      "/Users/chathurangishyalika/opt/anaconda3/envs/tf/lib/python3.7/site-packages/sklearn/utils/validation.py:1692: FutureWarning: Feature names only support names that are all strings. Got feature names with dtypes: ['tuple']. An error will be raised in 1.2.\n",
      "  FutureWarning,\n"
     ]
    }
   ],
   "source": [
    "# import GridSearchCV\n",
    "from sklearn.model_selection import GridSearchCV\n",
    "\n",
    "from sklearn.svm import SVC\n",
    "\n",
    "svc=SVC() \n",
    "\n",
    "# declare parameters for hyperparameter tuning\n",
    "parameters = [ {'C':[1, 10, 100, 1000], 'kernel':['linear']},\n",
    "               {'C':[1, 10, 100, 1000], 'kernel':['rbf'], 'gamma':[0.1, 0.2, 0.3, 0.4, 0.5, 0.6, 0.7, 0.8, 0.9]},\n",
    "               {'C':[1, 10, 100, 1000], 'kernel':['poly'], 'degree': [2,3,4] ,'gamma':[0.01,0.02,0.03,0.04,0.05]} \n",
    "              ]\n",
    "\n",
    "\n",
    "grid_search = GridSearchCV(estimator = svc,  \n",
    "                           param_grid = parameters,\n",
    "                           scoring = 'accuracy',\n",
    "                           cv = 5,\n",
    "                           verbose=0)\n",
    "\n",
    "\n",
    "grid_search.fit(X_train, y_train)"
   ]
  },
  {
   "cell_type": "code",
   "execution_count": null,
   "id": "138e3d21",
   "metadata": {},
   "outputs": [],
   "source": [
    "# examine the best model\n",
    "\n",
    "# best score achieved during the GridSearchCV\n",
    "print('GridSearch CV best score : {:.4f}\\n\\n'.format(grid_search.best_score_))\n",
    "print('Parameters that give the best results :','\\n\\n', (grid_search.best_params_))\n",
    "print('\\n\\nEstimator that was chosen by the search :','\\n\\n', (grid_search.best_estimator_))"
   ]
  },
  {
   "cell_type": "code",
   "execution_count": null,
   "id": "d32b33a3",
   "metadata": {},
   "outputs": [],
   "source": [
    "print('GridSearch CV score on test set: {0:0.4f}'.format(grid_search.score(X_test, y_test)))"
   ]
  }
 ],
 "metadata": {
  "kernelspec": {
   "display_name": "Python 3 (ipykernel)",
   "language": "python",
   "name": "python3"
  },
  "language_info": {
   "codemirror_mode": {
    "name": "ipython",
    "version": 3
   },
   "file_extension": ".py",
   "mimetype": "text/x-python",
   "name": "python",
   "nbconvert_exporter": "python",
   "pygments_lexer": "ipython3",
   "version": "3.9.12"
  }
 },
 "nbformat": 4,
 "nbformat_minor": 5
}
