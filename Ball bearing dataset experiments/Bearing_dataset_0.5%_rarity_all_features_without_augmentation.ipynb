{
 "cells": [
  {
   "cell_type": "code",
   "execution_count": 1,
   "id": "10892bc1",
   "metadata": {},
   "outputs": [],
   "source": [
    "%matplotlib inline\n",
    "import matplotlib.pyplot as plt\n",
    "import seaborn as sns\n",
    "\n",
    "import pandas as pd\n",
    "import numpy as np\n",
    "from pylab import rcParams\n",
    "\n",
    "from sklearn.preprocessing import StandardScaler\n",
    "from sklearn.model_selection import train_test_split\n",
    "from sklearn.metrics import confusion_matrix, precision_recall_curve\n",
    "from sklearn.metrics import recall_score, classification_report, auc, roc_curve\n",
    "from sklearn.metrics import precision_recall_fscore_support, f1_score\n",
    "\n",
    "from sklearn.metrics import accuracy_score\n",
    "from xgboost import XGBClassifier\n",
    "from sklearn.model_selection import cross_val_score\n",
    "from sklearn.model_selection import RepeatedStratifiedKFold\n",
    "from numpy import mean\n",
    "\n",
    "from imblearn.pipeline import Pipeline\n",
    "\n",
    "from imblearn.combine import SMOTETomek\n",
    "from imblearn.under_sampling import TomekLinks\n",
    "from imblearn.combine import SMOTEENN\n",
    "from imblearn.under_sampling import EditedNearestNeighbours\n",
    "from imblearn.over_sampling import ADASYN\n",
    "\n",
    "from sklearn.preprocessing import LabelEncoder\n",
    "\n",
    "from numpy.random import seed\n",
    "seed(7)\n",
    "\n",
    "from sklearn.model_selection import train_test_split\n",
    "\n",
    "SEED = 123 #used to help randomly select the data points\n",
    "DATA_SPLIT_PCT = 0.2\n",
    "\n",
    "rcParams['figure.figsize'] = 8, 6\n",
    "LABELS = [\"Normal\",\"Break\"]"
   ]
  },
  {
   "cell_type": "code",
   "execution_count": 2,
   "id": "6d6eef2b",
   "metadata": {},
   "outputs": [
    {
     "data": {
      "text/html": [
       "<div>\n",
       "<style scoped>\n",
       "    .dataframe tbody tr th:only-of-type {\n",
       "        vertical-align: middle;\n",
       "    }\n",
       "\n",
       "    .dataframe tbody tr th {\n",
       "        vertical-align: top;\n",
       "    }\n",
       "\n",
       "    .dataframe thead th {\n",
       "        text-align: right;\n",
       "    }\n",
       "</style>\n",
       "<table border=\"1\" class=\"dataframe\">\n",
       "  <thead>\n",
       "    <tr style=\"text-align: right;\">\n",
       "      <th></th>\n",
       "      <th>DE</th>\n",
       "      <th>FE</th>\n",
       "      <th>status</th>\n",
       "    </tr>\n",
       "  </thead>\n",
       "  <tbody>\n",
       "    <tr>\n",
       "      <th>0</th>\n",
       "      <td>0.014603</td>\n",
       "      <td>0.192920</td>\n",
       "      <td>0</td>\n",
       "    </tr>\n",
       "    <tr>\n",
       "      <th>1</th>\n",
       "      <td>0.054449</td>\n",
       "      <td>0.164360</td>\n",
       "      <td>0</td>\n",
       "    </tr>\n",
       "    <tr>\n",
       "      <th>2</th>\n",
       "      <td>0.107650</td>\n",
       "      <td>0.090811</td>\n",
       "      <td>0</td>\n",
       "    </tr>\n",
       "    <tr>\n",
       "      <th>3</th>\n",
       "      <td>0.133720</td>\n",
       "      <td>0.086496</td>\n",
       "      <td>0</td>\n",
       "    </tr>\n",
       "    <tr>\n",
       "      <th>4</th>\n",
       "      <td>0.112650</td>\n",
       "      <td>0.099235</td>\n",
       "      <td>0</td>\n",
       "    </tr>\n",
       "    <tr>\n",
       "      <th>...</th>\n",
       "      <td>...</td>\n",
       "      <td>...</td>\n",
       "      <td>...</td>\n",
       "    </tr>\n",
       "    <tr>\n",
       "      <th>19895</th>\n",
       "      <td>0.042558</td>\n",
       "      <td>-0.068622</td>\n",
       "      <td>0</td>\n",
       "    </tr>\n",
       "    <tr>\n",
       "      <th>19896</th>\n",
       "      <td>0.024408</td>\n",
       "      <td>-0.043967</td>\n",
       "      <td>0</td>\n",
       "    </tr>\n",
       "    <tr>\n",
       "      <th>19897</th>\n",
       "      <td>0.016898</td>\n",
       "      <td>-0.019313</td>\n",
       "      <td>0</td>\n",
       "    </tr>\n",
       "    <tr>\n",
       "      <th>19898</th>\n",
       "      <td>0.003129</td>\n",
       "      <td>0.001644</td>\n",
       "      <td>0</td>\n",
       "    </tr>\n",
       "    <tr>\n",
       "      <th>19899</th>\n",
       "      <td>-0.020862</td>\n",
       "      <td>0.034516</td>\n",
       "      <td>0</td>\n",
       "    </tr>\n",
       "  </tbody>\n",
       "</table>\n",
       "<p>19900 rows × 3 columns</p>\n",
       "</div>"
      ],
      "text/plain": [
       "             DE        FE status\n",
       "0      0.014603  0.192920      0\n",
       "1      0.054449  0.164360      0\n",
       "2      0.107650  0.090811      0\n",
       "3      0.133720  0.086496      0\n",
       "4      0.112650  0.099235      0\n",
       "...         ...       ...    ...\n",
       "19895  0.042558 -0.068622      0\n",
       "19896  0.024408 -0.043967      0\n",
       "19897  0.016898 -0.019313      0\n",
       "19898  0.003129  0.001644      0\n",
       "19899 -0.020862  0.034516      0\n",
       "\n",
       "[19900 rows x 3 columns]"
      ]
     },
     "execution_count": 2,
     "metadata": {},
     "output_type": "execute_result"
    }
   ],
   "source": [
    "df_normal = pd.read_excel(\"Normal_bearing_100_mat.xlsx\")\n",
    "df_normal = df_normal[[\"DE\", \"FE\"]]\n",
    "df_normal = df_normal.iloc[:19900]\n",
    "df_normal['status'] = '0'\n",
    "df_normal"
   ]
  },
  {
   "cell_type": "code",
   "execution_count": 3,
   "id": "1d5cafaf",
   "metadata": {},
   "outputs": [
    {
     "data": {
      "text/html": [
       "<div>\n",
       "<style scoped>\n",
       "    .dataframe tbody tr th:only-of-type {\n",
       "        vertical-align: middle;\n",
       "    }\n",
       "\n",
       "    .dataframe tbody tr th {\n",
       "        vertical-align: top;\n",
       "    }\n",
       "\n",
       "    .dataframe thead th {\n",
       "        text-align: right;\n",
       "    }\n",
       "</style>\n",
       "<table border=\"1\" class=\"dataframe\">\n",
       "  <thead>\n",
       "    <tr style=\"text-align: right;\">\n",
       "      <th></th>\n",
       "      <th>DE</th>\n",
       "      <th>FE</th>\n",
       "      <th>status</th>\n",
       "    </tr>\n",
       "  </thead>\n",
       "  <tbody>\n",
       "    <tr>\n",
       "      <th>0</th>\n",
       "      <td>0.014603</td>\n",
       "      <td>0.192920</td>\n",
       "      <td>1</td>\n",
       "    </tr>\n",
       "    <tr>\n",
       "      <th>1</th>\n",
       "      <td>0.054449</td>\n",
       "      <td>0.164360</td>\n",
       "      <td>1</td>\n",
       "    </tr>\n",
       "    <tr>\n",
       "      <th>2</th>\n",
       "      <td>0.107650</td>\n",
       "      <td>0.090811</td>\n",
       "      <td>1</td>\n",
       "    </tr>\n",
       "    <tr>\n",
       "      <th>3</th>\n",
       "      <td>0.133720</td>\n",
       "      <td>0.086496</td>\n",
       "      <td>1</td>\n",
       "    </tr>\n",
       "    <tr>\n",
       "      <th>4</th>\n",
       "      <td>0.112650</td>\n",
       "      <td>0.099235</td>\n",
       "      <td>1</td>\n",
       "    </tr>\n",
       "    <tr>\n",
       "      <th>...</th>\n",
       "      <td>...</td>\n",
       "      <td>...</td>\n",
       "      <td>...</td>\n",
       "    </tr>\n",
       "    <tr>\n",
       "      <th>95</th>\n",
       "      <td>0.028789</td>\n",
       "      <td>0.016642</td>\n",
       "      <td>1</td>\n",
       "    </tr>\n",
       "    <tr>\n",
       "      <th>96</th>\n",
       "      <td>-0.042766</td>\n",
       "      <td>0.073347</td>\n",
       "      <td>1</td>\n",
       "    </tr>\n",
       "    <tr>\n",
       "      <th>97</th>\n",
       "      <td>-0.077605</td>\n",
       "      <td>0.079305</td>\n",
       "      <td>1</td>\n",
       "    </tr>\n",
       "    <tr>\n",
       "      <th>98</th>\n",
       "      <td>-0.061333</td>\n",
       "      <td>0.044789</td>\n",
       "      <td>1</td>\n",
       "    </tr>\n",
       "    <tr>\n",
       "      <th>99</th>\n",
       "      <td>-0.006676</td>\n",
       "      <td>-0.031640</td>\n",
       "      <td>1</td>\n",
       "    </tr>\n",
       "  </tbody>\n",
       "</table>\n",
       "<p>100 rows × 3 columns</p>\n",
       "</div>"
      ],
      "text/plain": [
       "          DE        FE status\n",
       "0   0.014603  0.192920      1\n",
       "1   0.054449  0.164360      1\n",
       "2   0.107650  0.090811      1\n",
       "3   0.133720  0.086496      1\n",
       "4   0.112650  0.099235      1\n",
       "..       ...       ...    ...\n",
       "95  0.028789  0.016642      1\n",
       "96 -0.042766  0.073347      1\n",
       "97 -0.077605  0.079305      1\n",
       "98 -0.061333  0.044789      1\n",
       "99 -0.006676 -0.031640      1\n",
       "\n",
       "[100 rows x 3 columns]"
      ]
     },
     "execution_count": 3,
     "metadata": {},
     "output_type": "execute_result"
    }
   ],
   "source": [
    "df_fault = pd.read_excel(\"Normal_bearing_100_mat.xlsx\")\n",
    "df_fault = df_fault[[\"DE\", \"FE\"]]\n",
    "df_fault = df_fault.iloc[:100]\n",
    "df_fault['status'] = '1'\n",
    "df_fault"
   ]
  },
  {
   "cell_type": "code",
   "execution_count": 4,
   "id": "9571caff",
   "metadata": {},
   "outputs": [
    {
     "data": {
      "text/html": [
       "<div>\n",
       "<style scoped>\n",
       "    .dataframe tbody tr th:only-of-type {\n",
       "        vertical-align: middle;\n",
       "    }\n",
       "\n",
       "    .dataframe tbody tr th {\n",
       "        vertical-align: top;\n",
       "    }\n",
       "\n",
       "    .dataframe thead th {\n",
       "        text-align: right;\n",
       "    }\n",
       "</style>\n",
       "<table border=\"1\" class=\"dataframe\">\n",
       "  <thead>\n",
       "    <tr style=\"text-align: right;\">\n",
       "      <th></th>\n",
       "      <th>DE</th>\n",
       "      <th>FE</th>\n",
       "      <th>status</th>\n",
       "    </tr>\n",
       "  </thead>\n",
       "  <tbody>\n",
       "    <tr>\n",
       "      <th>0</th>\n",
       "      <td>0.014603</td>\n",
       "      <td>0.192920</td>\n",
       "      <td>0</td>\n",
       "    </tr>\n",
       "    <tr>\n",
       "      <th>1</th>\n",
       "      <td>0.054449</td>\n",
       "      <td>0.164360</td>\n",
       "      <td>0</td>\n",
       "    </tr>\n",
       "    <tr>\n",
       "      <th>2</th>\n",
       "      <td>0.107650</td>\n",
       "      <td>0.090811</td>\n",
       "      <td>0</td>\n",
       "    </tr>\n",
       "    <tr>\n",
       "      <th>3</th>\n",
       "      <td>0.133720</td>\n",
       "      <td>0.086496</td>\n",
       "      <td>0</td>\n",
       "    </tr>\n",
       "    <tr>\n",
       "      <th>4</th>\n",
       "      <td>0.112650</td>\n",
       "      <td>0.099235</td>\n",
       "      <td>0</td>\n",
       "    </tr>\n",
       "    <tr>\n",
       "      <th>...</th>\n",
       "      <td>...</td>\n",
       "      <td>...</td>\n",
       "      <td>...</td>\n",
       "    </tr>\n",
       "    <tr>\n",
       "      <th>95</th>\n",
       "      <td>0.028789</td>\n",
       "      <td>0.016642</td>\n",
       "      <td>1</td>\n",
       "    </tr>\n",
       "    <tr>\n",
       "      <th>96</th>\n",
       "      <td>-0.042766</td>\n",
       "      <td>0.073347</td>\n",
       "      <td>1</td>\n",
       "    </tr>\n",
       "    <tr>\n",
       "      <th>97</th>\n",
       "      <td>-0.077605</td>\n",
       "      <td>0.079305</td>\n",
       "      <td>1</td>\n",
       "    </tr>\n",
       "    <tr>\n",
       "      <th>98</th>\n",
       "      <td>-0.061333</td>\n",
       "      <td>0.044789</td>\n",
       "      <td>1</td>\n",
       "    </tr>\n",
       "    <tr>\n",
       "      <th>99</th>\n",
       "      <td>-0.006676</td>\n",
       "      <td>-0.031640</td>\n",
       "      <td>1</td>\n",
       "    </tr>\n",
       "  </tbody>\n",
       "</table>\n",
       "<p>20000 rows × 3 columns</p>\n",
       "</div>"
      ],
      "text/plain": [
       "          DE        FE status\n",
       "0   0.014603  0.192920      0\n",
       "1   0.054449  0.164360      0\n",
       "2   0.107650  0.090811      0\n",
       "3   0.133720  0.086496      0\n",
       "4   0.112650  0.099235      0\n",
       "..       ...       ...    ...\n",
       "95  0.028789  0.016642      1\n",
       "96 -0.042766  0.073347      1\n",
       "97 -0.077605  0.079305      1\n",
       "98 -0.061333  0.044789      1\n",
       "99 -0.006676 -0.031640      1\n",
       "\n",
       "[20000 rows x 3 columns]"
      ]
     },
     "execution_count": 4,
     "metadata": {},
     "output_type": "execute_result"
    }
   ],
   "source": [
    "df_combined=pd.concat([df_normal, df_fault], axis=0)\n",
    "df_combined"
   ]
  },
  {
   "cell_type": "code",
   "execution_count": 5,
   "id": "97fa1d9b",
   "metadata": {},
   "outputs": [
    {
     "data": {
      "text/plain": [
       "100"
      ]
     },
     "execution_count": 5,
     "metadata": {},
     "output_type": "execute_result"
    }
   ],
   "source": [
    "df_combined['status'].value_counts()[1]"
   ]
  },
  {
   "cell_type": "code",
   "execution_count": 6,
   "id": "f6395de0",
   "metadata": {},
   "outputs": [
    {
     "data": {
      "text/plain": [
       "19900"
      ]
     },
     "execution_count": 6,
     "metadata": {},
     "output_type": "execute_result"
    }
   ],
   "source": [
    "df_combined['status'].value_counts()[0]"
   ]
  },
  {
   "cell_type": "code",
   "execution_count": 7,
   "id": "3b06e4c6",
   "metadata": {},
   "outputs": [],
   "source": [
    "df_combined.to_csv(\"bearing_dataset_combined_0.5%.csv\")"
   ]
  },
  {
   "cell_type": "code",
   "execution_count": 8,
   "id": "884c7640",
   "metadata": {},
   "outputs": [
    {
     "data": {
      "text/html": [
       "<div>\n",
       "<style scoped>\n",
       "    .dataframe tbody tr th:only-of-type {\n",
       "        vertical-align: middle;\n",
       "    }\n",
       "\n",
       "    .dataframe tbody tr th {\n",
       "        vertical-align: top;\n",
       "    }\n",
       "\n",
       "    .dataframe thead th {\n",
       "        text-align: right;\n",
       "    }\n",
       "</style>\n",
       "<table border=\"1\" class=\"dataframe\">\n",
       "  <thead>\n",
       "    <tr style=\"text-align: right;\">\n",
       "      <th></th>\n",
       "      <th>DE</th>\n",
       "      <th>FE</th>\n",
       "      <th>status</th>\n",
       "    </tr>\n",
       "  </thead>\n",
       "  <tbody>\n",
       "    <tr>\n",
       "      <th>0</th>\n",
       "      <td>0.014603</td>\n",
       "      <td>0.192920</td>\n",
       "      <td>0</td>\n",
       "    </tr>\n",
       "    <tr>\n",
       "      <th>1</th>\n",
       "      <td>0.054449</td>\n",
       "      <td>0.164360</td>\n",
       "      <td>0</td>\n",
       "    </tr>\n",
       "    <tr>\n",
       "      <th>2</th>\n",
       "      <td>0.107650</td>\n",
       "      <td>0.090811</td>\n",
       "      <td>0</td>\n",
       "    </tr>\n",
       "    <tr>\n",
       "      <th>3</th>\n",
       "      <td>0.133720</td>\n",
       "      <td>0.086496</td>\n",
       "      <td>0</td>\n",
       "    </tr>\n",
       "    <tr>\n",
       "      <th>4</th>\n",
       "      <td>0.112650</td>\n",
       "      <td>0.099235</td>\n",
       "      <td>0</td>\n",
       "    </tr>\n",
       "    <tr>\n",
       "      <th>...</th>\n",
       "      <td>...</td>\n",
       "      <td>...</td>\n",
       "      <td>...</td>\n",
       "    </tr>\n",
       "    <tr>\n",
       "      <th>95</th>\n",
       "      <td>0.028789</td>\n",
       "      <td>0.016642</td>\n",
       "      <td>1</td>\n",
       "    </tr>\n",
       "    <tr>\n",
       "      <th>96</th>\n",
       "      <td>-0.042766</td>\n",
       "      <td>0.073347</td>\n",
       "      <td>1</td>\n",
       "    </tr>\n",
       "    <tr>\n",
       "      <th>97</th>\n",
       "      <td>-0.077605</td>\n",
       "      <td>0.079305</td>\n",
       "      <td>1</td>\n",
       "    </tr>\n",
       "    <tr>\n",
       "      <th>98</th>\n",
       "      <td>-0.061333</td>\n",
       "      <td>0.044789</td>\n",
       "      <td>1</td>\n",
       "    </tr>\n",
       "    <tr>\n",
       "      <th>99</th>\n",
       "      <td>-0.006676</td>\n",
       "      <td>-0.031640</td>\n",
       "      <td>1</td>\n",
       "    </tr>\n",
       "  </tbody>\n",
       "</table>\n",
       "<p>20000 rows × 3 columns</p>\n",
       "</div>"
      ],
      "text/plain": [
       "          DE        FE status\n",
       "0   0.014603  0.192920      0\n",
       "1   0.054449  0.164360      0\n",
       "2   0.107650  0.090811      0\n",
       "3   0.133720  0.086496      0\n",
       "4   0.112650  0.099235      0\n",
       "..       ...       ...    ...\n",
       "95  0.028789  0.016642      1\n",
       "96 -0.042766  0.073347      1\n",
       "97 -0.077605  0.079305      1\n",
       "98 -0.061333  0.044789      1\n",
       "99 -0.006676 -0.031640      1\n",
       "\n",
       "[20000 rows x 3 columns]"
      ]
     },
     "execution_count": 8,
     "metadata": {},
     "output_type": "execute_result"
    }
   ],
   "source": [
    "df=df_combined\n",
    "df"
   ]
  },
  {
   "cell_type": "code",
   "execution_count": 9,
   "id": "5af817a9",
   "metadata": {},
   "outputs": [],
   "source": [
    "X = df.drop(['status'], axis=1)\n",
    "\n",
    "y = df['status']"
   ]
  },
  {
   "cell_type": "code",
   "execution_count": 10,
   "id": "8f402d33",
   "metadata": {},
   "outputs": [
    {
     "data": {
      "text/plain": [
       "array([0, 0, 0, ..., 1, 1, 1])"
      ]
     },
     "execution_count": 10,
     "metadata": {},
     "output_type": "execute_result"
    }
   ],
   "source": [
    "le = LabelEncoder()\n",
    "y = le.fit_transform(y)\n",
    "y"
   ]
  },
  {
   "cell_type": "code",
   "execution_count": 11,
   "id": "b4549121",
   "metadata": {},
   "outputs": [
    {
     "data": {
      "text/plain": [
       "((16000, 2), (4000, 2))"
      ]
     },
     "execution_count": 11,
     "metadata": {},
     "output_type": "execute_result"
    }
   ],
   "source": [
    "X_train, X_test, y_train, y_test = train_test_split(X, y, test_size = 0.2, random_state = 0)\n",
    "X_train.shape, X_test.shape"
   ]
  },
  {
   "cell_type": "code",
   "execution_count": 12,
   "id": "7e98c175",
   "metadata": {},
   "outputs": [],
   "source": [
    "#y_train.value_counts()"
   ]
  },
  {
   "cell_type": "code",
   "execution_count": 13,
   "id": "c269437f",
   "metadata": {},
   "outputs": [],
   "source": [
    "#y_test.value_counts()"
   ]
  },
  {
   "cell_type": "code",
   "execution_count": 14,
   "id": "179e8a42",
   "metadata": {},
   "outputs": [
    {
     "data": {
      "text/plain": [
       "array([0, 0, 0, ..., 0, 0, 0])"
      ]
     },
     "execution_count": 14,
     "metadata": {},
     "output_type": "execute_result"
    }
   ],
   "source": [
    "y_train"
   ]
  },
  {
   "cell_type": "code",
   "execution_count": 15,
   "id": "565eb138",
   "metadata": {},
   "outputs": [],
   "source": [
    "# Feature scaling"
   ]
  },
  {
   "cell_type": "code",
   "execution_count": 16,
   "id": "9902a7e2",
   "metadata": {},
   "outputs": [],
   "source": [
    "cols = X_train.columns\n",
    "\n",
    "scaler = StandardScaler()\n",
    "X_train = scaler.fit_transform(X_train)\n",
    "X_test = scaler.transform(X_test)\n",
    "\n",
    "X_train = pd.DataFrame(X_train, columns=[cols])\n",
    "X_test = pd.DataFrame(X_test, columns=[cols])\n"
   ]
  },
  {
   "cell_type": "code",
   "execution_count": 17,
   "id": "c8635753",
   "metadata": {},
   "outputs": [
    {
     "name": "stdout",
     "output_type": "stream",
     "text": [
      "Mean ROC AUC: 0.56822\n"
     ]
    }
   ],
   "source": [
    "# define model\n",
    "model = XGBClassifier()\n",
    "# define evaluation procedure\n",
    "cv = RepeatedStratifiedKFold(n_splits=10, n_repeats=3, random_state=1)\n",
    "# evaluate model\n",
    "scores = cross_val_score(model, X, y, scoring='roc_auc', cv=cv, n_jobs=-1)\n",
    "# summarize performance\n",
    "print('Mean ROC AUC: %.5f' % mean(scores))"
   ]
  },
  {
   "cell_type": "code",
   "execution_count": 18,
   "id": "c6ddffdc",
   "metadata": {},
   "outputs": [],
   "source": [
    "model = XGBClassifier()\n",
    "\n",
    "clf_0 = model.fit(X_train, y_train)"
   ]
  },
  {
   "cell_type": "code",
   "execution_count": 19,
   "id": "5bcc7dd8",
   "metadata": {},
   "outputs": [
    {
     "name": "stdout",
     "output_type": "stream",
     "text": [
      "0.99525\n"
     ]
    }
   ],
   "source": [
    "pred_y_0 = clf_0.predict(X_test)\n",
    "\n",
    "print(accuracy_score(pred_y_0, y_test))"
   ]
  },
  {
   "cell_type": "code",
   "execution_count": 20,
   "id": "c7a701ef",
   "metadata": {},
   "outputs": [
    {
     "name": "stdout",
     "output_type": "stream",
     "text": [
      "              precision    recall  f1-score   support\n",
      "\n",
      "     class 0       1.00      1.00      1.00      3983\n",
      "     class 1       0.00      0.00      0.00        17\n",
      "\n",
      "    accuracy                           1.00      4000\n",
      "   macro avg       0.50      0.50      0.50      4000\n",
      "weighted avg       0.99      1.00      0.99      4000\n",
      "\n"
     ]
    },
    {
     "data": {
      "text/plain": [
       "array([[3981,    2],\n",
       "       [  17,    0]])"
      ]
     },
     "execution_count": 20,
     "metadata": {},
     "output_type": "execute_result"
    }
   ],
   "source": [
    "target_names = ['class 0', 'class 1']\n",
    "print(classification_report(y_test, pred_y_0, target_names=target_names))\n",
    "\n",
    "# View confusion matrix for test data and predictions\n",
    "confusion_matrix(y_test, pred_y_0)"
   ]
  },
  {
   "cell_type": "markdown",
   "id": "f4736a5d",
   "metadata": {},
   "source": [
    "# Weighted XGBoost for Class Imbalance\n"
   ]
  },
  {
   "cell_type": "code",
   "execution_count": 22,
   "id": "2c8edbf5",
   "metadata": {},
   "outputs": [
    {
     "name": "stdout",
     "output_type": "stream",
     "text": [
      "Mean ROC AUC: 0.56582\n"
     ]
    }
   ],
   "source": [
    "# define model\n",
    "#scale_pos_weight=total_negative_examples / total_positive_examples\n",
    "#total number of examples in the majority class / total number of examples in the minority class.\n",
    "#19900/100=199\n",
    "model = XGBClassifier(scale_pos_weight=199)\n",
    "\n",
    "# define evaluation procedure\n",
    "cv = RepeatedStratifiedKFold(n_splits=10, n_repeats=3, random_state=1)\n",
    "# evaluate model\n",
    "scores = cross_val_score(model, X, y, scoring='roc_auc', cv=cv, n_jobs=-1)\n",
    "# summarize performance\n",
    "print('Mean ROC AUC: %.5f' % mean(scores))"
   ]
  },
  {
   "cell_type": "code",
   "execution_count": 23,
   "id": "7d294730",
   "metadata": {},
   "outputs": [
    {
     "name": "stdout",
     "output_type": "stream",
     "text": [
      "0.9845\n"
     ]
    }
   ],
   "source": [
    "clf_1 = model.fit(X_train, y_train)\n",
    "pred_y_1 = clf_1.predict(X_test)\n",
    "\n",
    "print(accuracy_score(pred_y_1, y_test))"
   ]
  },
  {
   "cell_type": "code",
   "execution_count": 24,
   "id": "fed04163",
   "metadata": {},
   "outputs": [
    {
     "name": "stdout",
     "output_type": "stream",
     "text": [
      "              precision    recall  f1-score   support\n",
      "\n",
      "     class 0       1.00      0.99      0.99      3983\n",
      "     class 1       0.00      0.00      0.00        17\n",
      "\n",
      "    accuracy                           0.98      4000\n",
      "   macro avg       0.50      0.49      0.50      4000\n",
      "weighted avg       0.99      0.98      0.99      4000\n",
      "\n"
     ]
    },
    {
     "data": {
      "text/plain": [
       "array([[3938,   45],\n",
       "       [  17,    0]])"
      ]
     },
     "execution_count": 24,
     "metadata": {},
     "output_type": "execute_result"
    }
   ],
   "source": [
    "target_names = ['class 0', 'class 1']\n",
    "print(classification_report(y_test, pred_y_1, target_names=target_names))\n",
    "\n",
    "# View confusion matrix for test data and predictions\n",
    "confusion_matrix(y_test, pred_y_1)"
   ]
  },
  {
   "cell_type": "markdown",
   "id": "7c49ac1f",
   "metadata": {},
   "source": [
    "# Tune with GridSearch CV"
   ]
  },
  {
   "cell_type": "code",
   "execution_count": 25,
   "id": "3616d4e8",
   "metadata": {},
   "outputs": [],
   "source": [
    "# define grid\n",
    "weights = [1, 10, 25, 50, 75, 99, 100, 1000]\n",
    "param_grid = dict(scale_pos_weight=weights)"
   ]
  },
  {
   "cell_type": "code",
   "execution_count": 26,
   "id": "cdf6e16e",
   "metadata": {},
   "outputs": [],
   "source": [
    "from sklearn.model_selection import GridSearchCV\n",
    "from sklearn.model_selection import RepeatedStratifiedKFold\n",
    "# define evaluation procedure\n",
    "cv = RepeatedStratifiedKFold(n_splits=10, n_repeats=3, random_state=1)\n",
    "# define grid search\n",
    "grid = GridSearchCV(estimator=model, param_grid=param_grid, n_jobs=-1, cv=cv, scoring='roc_auc')"
   ]
  },
  {
   "cell_type": "code",
   "execution_count": 33,
   "id": "b06bc639",
   "metadata": {},
   "outputs": [
    {
     "name": "stderr",
     "output_type": "stream",
     "text": [
      "/Users/chathurangishyalika/opt/anaconda3/envs/tf/lib/python3.7/site-packages/xgboost/sklearn.py:1224: UserWarning: The use of label encoder in XGBClassifier is deprecated and will be removed in a future release. To remove this warning, do the following: 1) Pass option use_label_encoder=False when constructing XGBClassifier object; and 2) Encode your labels (y) as integers starting with 0, i.e. 0, 1, 2, ..., [num_class - 1].\n",
      "  warnings.warn(label_encoder_deprecation_msg, UserWarning)\n"
     ]
    },
    {
     "name": "stdout",
     "output_type": "stream",
     "text": [
      "[13:03:30] WARNING: /var/folders/sy/f16zz6x50xz3113nwtb9bvq00000gp/T/abs_44tbtwf8c1/croots/recipe/xgboost-split_1659548960882/work/src/learner.cc:1115: Starting in XGBoost 1.3.0, the default evaluation metric used with the objective 'binary:logistic' was changed from 'error' to 'logloss'. Explicitly set eval_metric if you'd like to restore the old behavior.\n",
      "Best: 0.931436 using {'scale_pos_weight': 1}\n",
      "0.931436 (0.040774) with: {'scale_pos_weight': 1}\n",
      "0.927670 (0.048305) with: {'scale_pos_weight': 10}\n",
      "0.929479 (0.045071) with: {'scale_pos_weight': 25}\n",
      "0.922069 (0.046362) with: {'scale_pos_weight': 50}\n",
      "0.923126 (0.051366) with: {'scale_pos_weight': 75}\n",
      "0.922714 (0.053929) with: {'scale_pos_weight': 99}\n",
      "0.922413 (0.053952) with: {'scale_pos_weight': 100}\n",
      "0.905774 (0.058887) with: {'scale_pos_weight': 1000}\n"
     ]
    }
   ],
   "source": [
    "# execute the grid search\n",
    "grid_result = grid.fit(X, y)\n",
    "# report the best configuration\n",
    "print(\"Best: %f using %s\" % (grid_result.best_score_, grid_result.best_params_))\n",
    "# report all configurations\n",
    "means = grid_result.cv_results_['mean_test_score']\n",
    "stds = grid_result.cv_results_['std_test_score']\n",
    "params = grid_result.cv_results_['params']\n",
    "for mean, stdev, param in zip(means, stds, params):\n",
    "    print(\"%f (%f) with: %r\" % (mean, stdev, param))"
   ]
  },
  {
   "cell_type": "code",
   "execution_count": 48,
   "id": "aebdc7e5",
   "metadata": {},
   "outputs": [
    {
     "name": "stdout",
     "output_type": "stream",
     "text": [
      "Mean ROC AUC: 0.53541\n"
     ]
    }
   ],
   "source": [
    "# define model\n",
    "model = XGBClassifier(scale_pos_weight=7000)\n",
    "\n",
    "# define evaluation procedure\n",
    "cv = RepeatedStratifiedKFold(n_splits=10, n_repeats=3, random_state=1)\n",
    "# evaluate model\n",
    "scores = cross_val_score(model, X, y, scoring='roc_auc', cv=cv, n_jobs=-1)\n",
    "# summarize performance\n",
    "print('Mean ROC AUC: %.5f' % mean(scores))"
   ]
  },
  {
   "cell_type": "code",
   "execution_count": 49,
   "id": "a0c6a566",
   "metadata": {},
   "outputs": [
    {
     "name": "stdout",
     "output_type": "stream",
     "text": [
      "0.97125\n"
     ]
    }
   ],
   "source": [
    "clf_2 = model.fit(X_train, y_train)\n",
    "pred_y_2 = clf_2.predict(X_test)\n",
    "\n",
    "print(accuracy_score(pred_y_2, y_test))"
   ]
  },
  {
   "cell_type": "code",
   "execution_count": 50,
   "id": "5ca80875",
   "metadata": {},
   "outputs": [
    {
     "name": "stdout",
     "output_type": "stream",
     "text": [
      "              precision    recall  f1-score   support\n",
      "\n",
      "     class 0       1.00      0.98      0.99      3983\n",
      "     class 1       0.00      0.00      0.00        17\n",
      "\n",
      "    accuracy                           0.97      4000\n",
      "   macro avg       0.50      0.49      0.49      4000\n",
      "weighted avg       0.99      0.97      0.98      4000\n",
      "\n"
     ]
    },
    {
     "data": {
      "text/plain": [
       "array([[3885,   98],\n",
       "       [  17,    0]])"
      ]
     },
     "execution_count": 50,
     "metadata": {},
     "output_type": "execute_result"
    }
   ],
   "source": [
    "target_names = ['class 0', 'class 1']\n",
    "print(classification_report(y_test, pred_y_2, target_names=target_names))\n",
    "\n",
    "# View confusion matrix for test data and predictions\n",
    "confusion_matrix(y_test, pred_y_2)"
   ]
  },
  {
   "cell_type": "markdown",
   "id": "aeca36dd",
   "metadata": {},
   "source": [
    "# sampling"
   ]
  },
  {
   "cell_type": "code",
   "execution_count": 15,
   "id": "453f706a",
   "metadata": {},
   "outputs": [
    {
     "name": "stdout",
     "output_type": "stream",
     "text": [
      "0.6135\n",
      "              precision    recall  f1-score   support\n",
      "\n",
      "     class 0       1.00      0.61      0.76      3983\n",
      "     class 1       0.01      0.47      0.01        17\n",
      "\n",
      "    accuracy                           0.61      4000\n",
      "   macro avg       0.50      0.54      0.39      4000\n",
      "weighted avg       0.99      0.61      0.76      4000\n",
      "\n"
     ]
    },
    {
     "data": {
      "text/plain": [
       "array([[2446, 1537],\n",
       "       [   9,    8]])"
      ]
     },
     "execution_count": 15,
     "metadata": {},
     "output_type": "execute_result"
    }
   ],
   "source": [
    "model = XGBClassifier(scale_pos_weight=199)\n",
    "X_train=X_train.fillna(0)\n",
    "# Define SMOTE-Tomek Links\n",
    "resample=SMOTETomek(tomek=TomekLinks(sampling_strategy='all'))\n",
    "# Define pipeline\n",
    "pipeline=Pipeline(steps=[('r', resample), ('m', model)])\n",
    "\n",
    "model = XGBClassifier()\n",
    "\n",
    "clf_0 = pipeline.fit(X_train, y_train)\n",
    "pred_y_0 = clf_0.predict(X_test)\n",
    "\n",
    "print(accuracy_score(pred_y_0, y_test))\n",
    "\n",
    "target_names = ['class 0', 'class 1']\n",
    "print(classification_report(y_test, pred_y_0, target_names=target_names))\n",
    "\n",
    "# View confusion matrix for test data and predictions\n",
    "confusion_matrix(y_test, pred_y_0)\n",
    "\n",
    "\n",
    "#scale_pos_weight=199"
   ]
  },
  {
   "cell_type": "code",
   "execution_count": 16,
   "id": "a7e89918",
   "metadata": {},
   "outputs": [
    {
     "name": "stdout",
     "output_type": "stream",
     "text": [
      "0.59375\n",
      "              precision    recall  f1-score   support\n",
      "\n",
      "     class 0       1.00      0.59      0.74      3983\n",
      "     class 1       0.00      0.41      0.01        17\n",
      "\n",
      "    accuracy                           0.59      4000\n",
      "   macro avg       0.50      0.50      0.38      4000\n",
      "weighted avg       0.99      0.59      0.74      4000\n",
      "\n"
     ]
    },
    {
     "data": {
      "text/plain": [
       "array([[2368, 1615],\n",
       "       [  10,    7]])"
      ]
     },
     "execution_count": 16,
     "metadata": {},
     "output_type": "execute_result"
    }
   ],
   "source": [
    "# define model\n",
    "model = XGBClassifier(scale_pos_weight=199)\n",
    "\n",
    "X_train=X_train.fillna(0)\n",
    "\n",
    "#Define SMOTE-ENN\n",
    "resample=SMOTEENN(enn=EditedNearestNeighbours(sampling_strategy='majority'))\n",
    "#Define pipeline\n",
    "pipeline=Pipeline(steps=[('r', resample), ('m', model)])\n",
    "\n",
    "clf_2 = pipeline.fit(X_train, y_train)\n",
    "pred_y_2 = clf_2.predict(X_test)\n",
    "\n",
    "print(accuracy_score(pred_y_2, y_test))\n",
    "\n",
    "target_names = ['class 0', 'class 1']\n",
    "print(classification_report(y_test, pred_y_2, target_names=target_names))\n",
    "\n",
    "# View confusion matrix for test data and predictions\n",
    "confusion_matrix(y_test, pred_y_2)"
   ]
  },
  {
   "cell_type": "code",
   "execution_count": 17,
   "id": "c50cddc8",
   "metadata": {},
   "outputs": [
    {
     "name": "stdout",
     "output_type": "stream",
     "text": [
      "0.58725\n",
      "0.621125\n",
      "              precision    recall  f1-score   support\n",
      "\n",
      "     class 0       1.00      0.59      0.74      3983\n",
      "     class 1       0.00      0.47      0.01        17\n",
      "\n",
      "    accuracy                           0.59      4000\n",
      "   macro avg       0.50      0.53      0.37      4000\n",
      "weighted avg       0.99      0.59      0.74      4000\n",
      "\n"
     ]
    },
    {
     "data": {
      "text/plain": [
       "array([[2341, 1642],\n",
       "       [   9,    8]])"
      ]
     },
     "execution_count": 17,
     "metadata": {},
     "output_type": "execute_result"
    }
   ],
   "source": [
    "#ADASYN\n",
    "ada = ADASYN(random_state=42)\n",
    "X_res, y_res = ada.fit_resample(X, y)\n",
    "model = XGBClassifier(scale_pos_weight=199)\n",
    "\n",
    "#Define ADASYN\n",
    "resample=ADASYN(random_state=42)\n",
    "clf_2 = pipeline.fit(X_train, y_train)\n",
    "pred_y_2 = clf_2.predict(X_test)\n",
    "\n",
    "print(accuracy_score(pred_y_2, y_test))\n",
    "\n",
    "pred_y_train = clf_2.predict(X_train)\n",
    "print(accuracy_score(pred_y_train, y_train))\n",
    "\n",
    "\n",
    "target_names = ['class 0', 'class 1']\n",
    "print(classification_report(y_test, pred_y_2, target_names=target_names))\n",
    "\n",
    "# View confusion matrix for test data and predictions\n",
    "confusion_matrix(y_test, pred_y_2)"
   ]
  }
 ],
 "metadata": {
  "kernelspec": {
   "display_name": "Python 3 (ipykernel)",
   "language": "python",
   "name": "python3"
  },
  "language_info": {
   "codemirror_mode": {
    "name": "ipython",
    "version": 3
   },
   "file_extension": ".py",
   "mimetype": "text/x-python",
   "name": "python",
   "nbconvert_exporter": "python",
   "pygments_lexer": "ipython3",
   "version": "3.9.12"
  }
 },
 "nbformat": 4,
 "nbformat_minor": 5
}
